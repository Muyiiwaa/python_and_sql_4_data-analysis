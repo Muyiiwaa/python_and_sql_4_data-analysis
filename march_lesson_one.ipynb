{
  "cells": [
    {
      "cell_type": "markdown",
      "metadata": {
        "colab_type": "text",
        "id": "view-in-github"
      },
      "source": [
        "<a href=\"https://colab.research.google.com/github/Muyiiwaa/python_and_sql_4_data-analysis/blob/master/march_lesson_one.ipynb\" target=\"_parent\"><img src=\"https://colab.research.google.com/assets/colab-badge.svg\" alt=\"Open In Colab\"/></a>"
      ]
    },
    {
      "cell_type": "markdown",
      "metadata": {
        "id": "qa3HzRbza2iG"
      },
      "source": [
        "# Lesson 1: Python Basics I – Syntax, Variables, and Data Types\n"
      ]
    },
    {
      "cell_type": "markdown",
      "metadata": {
        "id": "kqr2T-0NbD7k"
      },
      "source": [
        "#### 1.  Why Python:\n",
        "\n",
        "Python is a high-level, interpreted programming language.It is widely used in data analysis, machine learning, and automation. Its major application within data analysis is for handling large dataset. Python can easily step in place of every tool in the data analytics stack except SQL.\n",
        "\n",
        "\n",
        "---\n",
        "\n",
        "\n",
        "\n"
      ]
    },
    {
      "cell_type": "markdown",
      "metadata": {
        "id": "MoPyGuYjbn7U"
      },
      "source": [
        "### 2. Comments and Code Execution"
      ]
    },
    {
      "cell_type": "code",
      "execution_count": 1,
      "metadata": {
        "id": "5T1Kn2tUXv_v"
      },
      "outputs": [
        {
          "data": {
            "text/plain": [
              "8"
            ]
          },
          "execution_count": 1,
          "metadata": {},
          "output_type": "execute_result"
        }
      ],
      "source": [
        "# Comments start with #\n",
        "\n",
        "# write a program that performs a simple arithmetic\n",
        "\n",
        "5 + 3 "
      ]
    },
    {
      "cell_type": "markdown",
      "metadata": {
        "id": "2c66sYa-bxWl"
      },
      "source": [
        "### 3. Variable assignment and data types"
      ]
    },
    {
      "cell_type": "code",
      "execution_count": 12,
      "metadata": {
        "id": "R3i-WETReWUt"
      },
      "outputs": [
        {
          "name": "stdout",
          "output_type": "stream",
          "text": [
            "560 32\n"
          ]
        }
      ],
      "source": [
        "# variables store data\n",
        "\n",
        "# write a program that prints a person's name\n",
        "\n",
        "name = 560\n",
        "age = 32\n",
        "\n",
        "print(name,age)"
      ]
    },
    {
      "cell_type": "markdown",
      "metadata": {
        "id": "GP6wCi6hb1Ng"
      },
      "source": [
        "### 4. Dynamic Typing"
      ]
    },
    {
      "cell_type": "code",
      "execution_count": 13,
      "metadata": {
        "id": "QDJVo0jlec1H"
      },
      "outputs": [
        {
          "name": "stdout",
          "output_type": "stream",
          "text": [
            "<class 'int'> <class 'int'>\n"
          ]
        }
      ],
      "source": [
        "# Python is dynamically typed: you don't declare variable types\n",
        "\n",
        "name: str = 560\n",
        "age: int = 32\n",
        "\n",
        "print(type(name),type(age))"
      ]
    },
    {
      "cell_type": "markdown",
      "metadata": {
        "id": "Dch8t5BUb8YM"
      },
      "source": [
        "### 5. Data Types Overview"
      ]
    },
    {
      "cell_type": "code",
      "execution_count": 14,
      "metadata": {
        "id": "HF0W-CVsega-"
      },
      "outputs": [
        {
          "name": "stdout",
          "output_type": "stream",
          "text": [
            "<class 'str'>\n",
            "<class 'int'>\n",
            "<class 'float'>\n",
            "<class 'bool'>\n"
          ]
        }
      ],
      "source": [
        "# Common primitive types: int, float, str, bool\n",
        "\n",
        "name = 'wale'\n",
        "age = 33\n",
        "salary = 3400.5\n",
        "is_married = True\n",
        "\n",
        "print(type(name))\n",
        "print(type(age))\n",
        "print(type(salary))\n",
        "print(type(is_married))"
      ]
    },
    {
      "cell_type": "markdown",
      "metadata": {
        "id": "-DGhIJIKcFvv"
      },
      "source": [
        "### 7. Type Conversion"
      ]
    },
    {
      "cell_type": "code",
      "execution_count": 24,
      "metadata": {
        "id": "Td-0i4lNe3Y_"
      },
      "outputs": [
        {
          "name": "stdout",
          "output_type": "stream",
          "text": [
            "Hi steph you are 47 years old\n"
          ]
        }
      ],
      "source": [
        "# Convert between types using functions like int(), float(), str()\n",
        "\n",
        "# write a program that accepts year of birth and return age.\n",
        "\n",
        "your_name = 'steph'\n",
        "year_of_birth = 1978\n",
        "your_age = 2025 - year_of_birth\n",
        "print(f'Hi {your_name} you are {your_age} years old')"
      ]
    },
    {
      "cell_type": "code",
      "execution_count": 28,
      "metadata": {},
      "outputs": [
        {
          "name": "stdout",
          "output_type": "stream",
          "text": [
            "250000.0 naira is 125.0 dollar at 2000 naira per dollar\n"
          ]
        }
      ],
      "source": [
        "# write a program that converts naira to dollar\n",
        "\n",
        "naira = input(\"naira: \")\n",
        "naira = float(naira)\n",
        "rate = 2000\n",
        "dollar = naira/rate\n",
        "\n",
        "print(f'{naira} naira is {dollar} dollar at {rate} naira per dollar')"
      ]
    },
    {
      "cell_type": "markdown",
      "metadata": {
        "id": "Ns0nr0ghcFif"
      },
      "source": [
        "### 8. Arithmetic Operator\n",
        "| Operator | Name             | Example Use         |\n",
        "|----------|------------------|---------------------|\n",
        "| `+`      | Addition         | `5 + 2` → `7`       |\n",
        "| `-`      | Subtraction      | `5 - 2` → `3`       |\n",
        "| `*`      | Multiplication   | `5 * 2` → `10`      |\n",
        "| `/`      | Division         | `5 / 2` → `2.5`     |\n",
        "| `//`     | Floor Division   | `5 // 2` → `2`      |\n",
        "| `%`      | Modulus          | `5 % 2` → `1`       |\n",
        "| `**`     | Exponentiation   | `5 ** 2` → `25`     |"
      ]
    },
    {
      "cell_type": "code",
      "execution_count": 31,
      "metadata": {
        "id": "sy02DYSxe_Nc"
      },
      "outputs": [
        {
          "data": {
            "text/plain": [
              "49"
            ]
          },
          "execution_count": 31,
          "metadata": {},
          "output_type": "execute_result"
        }
      ],
      "source": [
        "# some basic arithmetic operators:  +, -, *, /, // (floor), % (mod), ** (power)\n",
        "\n",
        "# return the square of 7\n",
        "\n",
        "7 ** 2"
      ]
    },
    {
      "cell_type": "code",
      "execution_count": 34,
      "metadata": {},
      "outputs": [
        {
          "name": "stdout",
          "output_type": "stream",
          "text": [
            "There are 1 weeks and 3 days in 10 days\n"
          ]
        }
      ],
      "source": [
        "# write a program that accepts number of days and convert it to weeks\n",
        "\n",
        "no_of_days = input('Enter the number of days: ')\n",
        "no_of_days = int(no_of_days)\n",
        "weeks = no_of_days // 7\n",
        "days = no_of_days % 7\n",
        "print(f'There are {weeks} weeks and {days} days in {no_of_days} days')"
      ]
    },
    {
      "cell_type": "markdown",
      "metadata": {
        "id": "VO7Ntco9cFXe"
      },
      "source": [
        "### 9. Comparison Operators\n",
        "\n",
        "| Operator | Name                 | Example Use        |\n",
        "|----------|----------------------|--------------------|\n",
        "| `==`     | Equal to             | `5 == 2` → `False` |\n",
        "| `!=`     | Not equal to         | `5 != 2` → `True`  |\n",
        "| `>`      | Greater than         | `5 > 2` → `True`   |\n",
        "| `<`      | Less than            | `5 < 2` → `False`  |\n",
        "| `>=`     | Greater than or equal| `5 >= 2` → `True`  |\n",
        "| `<=`     | Less than or equal   | `5 <= 2` → `False` |"
      ]
    },
    {
      "cell_type": "code",
      "execution_count": null,
      "metadata": {
        "id": "lgZUOQxrfKWD"
      },
      "outputs": [
        {
          "data": {
            "text/plain": [
              "True"
            ]
          },
          "execution_count": 38,
          "metadata": {},
          "output_type": "execute_result"
        }
      ],
      "source": [
        "# some comparison operators ==, !=, >, <, >=, <=\n",
        "\n",
        "50 == 55\n",
        "50 > 55\n",
        "50 < 55\n",
        "50 != 55\n",
        "50 >"
      ]
    },
    {
      "cell_type": "markdown",
      "metadata": {
        "id": "-4Ho86becetu"
      },
      "source": [
        "### 10. String Operations"
      ]
    },
    {
      "cell_type": "code",
      "execution_count": 43,
      "metadata": {
        "id": "-0sEfjfsfQ5Y"
      },
      "outputs": [
        {
          "data": {
            "text/plain": [
              "'datadatadatadatadatadatadatadatadatadatadatadatadatadatadatadatadatadatadatadatadatadatadata'"
            ]
          },
          "execution_count": 43,
          "metadata": {},
          "output_type": "execute_result"
        }
      ],
      "source": [
        "# Strings can be concatenated or repeated\n",
        "\n",
        "course = 'data'\n",
        "\n",
        "# string concatenation\n",
        "course + ' ' + course\n",
        "\n",
        "# string repetition\n",
        "course * 23"
      ]
    },
    {
      "cell_type": "markdown",
      "metadata": {
        "id": "BWsR_TencFKB"
      },
      "source": [
        "### 11. String Methods and Functions"
      ]
    },
    {
      "cell_type": "code",
      "execution_count": 52,
      "metadata": {
        "id": "bbVWKLV9fYl-"
      },
      "outputs": [
        {
          "name": "stdout",
          "output_type": "stream",
          "text": [
            "<class 'str'>\n",
            "<class 'str'>\n",
            "<class 'tuple'>\n",
            "6\n",
            "3\n",
            "4\n",
            "IPHONE\n",
            "TOLA\n",
            "iphone\n",
            "tola\n"
          ]
        }
      ],
      "source": [
        "### some popular string method: len, upper, lower, replace\n",
        "\n",
        "phone = 'Iphone'\n",
        "name = 'tola'\n",
        "phones = ('samsung', 'tecno','pixel')\n",
        "\n",
        "print(type(phone))\n",
        "print(type(name))\n",
        "print(type(phones))\n",
        "\n",
        "\n",
        "print(len(phone))\n",
        "print(len(phones))\n",
        "print(len(name))\n",
        "\n",
        "print(phone.upper())\n",
        "print(name.upper())\n",
        "\n",
        "print(phone.lower())\n",
        "print(name.lower())\n"
      ]
    },
    {
      "cell_type": "markdown",
      "metadata": {
        "id": "--o44JxZceec"
      },
      "source": [
        "### 11. Logical Operators\n",
        "\n",
        "| Operator | Name     | Example Use                |\n",
        "|----------|----------|----------------------------|\n",
        "| `and`    | Logical AND | `True and False` → `False` |\n",
        "| `or`     | Logical OR  | `True or False` → `True`   |\n",
        "| `not`    | Logical NOT | `not True` → `False`       |"
      ]
    },
    {
      "cell_type": "code",
      "execution_count": 56,
      "metadata": {
        "id": "nK9X-OFnfh2H"
      },
      "outputs": [
        {
          "data": {
            "text/plain": [
              "True"
            ]
          },
          "execution_count": 56,
          "metadata": {},
          "output_type": "execute_result"
        }
      ],
      "source": [
        "# logical operators: and, or, not\n",
        "\n",
        "(50 == 50) or (50 < 25)\n"
      ]
    },
    {
      "cell_type": "markdown",
      "metadata": {
        "id": "hM_Gu3C6ceR3"
      },
      "source": [
        "# EXERCISES\n",
        "\n",
        "\n",
        "\n",
        "1. Create two variables, one int and one float. Add them together.\n",
        "2. Take a string and convert it to uppercase, then repeat it 3 times.\n",
        "3. Check if two numbers are equal and print the result.\n",
        "4. write a program that accepts someone's name and returns the number of letters in their name.\n"
      ]
    },
    {
      "cell_type": "code",
      "execution_count": null,
      "metadata": {
        "id": "nKCxBN-FbwhU"
      },
      "outputs": [],
      "source": []
    }
  ],
  "metadata": {
    "colab": {
      "authorship_tag": "ABX9TyNFgYGQ+9DQxglGxHgfF2sA",
      "include_colab_link": true,
      "provenance": []
    },
    "kernelspec": {
      "display_name": "Python 3",
      "name": "python3"
    },
    "language_info": {
      "codemirror_mode": {
        "name": "ipython",
        "version": 3
      },
      "file_extension": ".py",
      "mimetype": "text/x-python",
      "name": "python",
      "nbconvert_exporter": "python",
      "pygments_lexer": "ipython3",
      "version": "3.12.0"
    }
  },
  "nbformat": 4,
  "nbformat_minor": 0
}
