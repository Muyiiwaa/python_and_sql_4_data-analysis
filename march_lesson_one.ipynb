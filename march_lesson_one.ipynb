{
  "nbformat": 4,
  "nbformat_minor": 0,
  "metadata": {
    "colab": {
      "provenance": [],
      "authorship_tag": "ABX9TyNFgYGQ+9DQxglGxHgfF2sA",
      "include_colab_link": true
    },
    "kernelspec": {
      "name": "python3",
      "display_name": "Python 3"
    },
    "language_info": {
      "name": "python"
    }
  },
  "cells": [
    {
      "cell_type": "markdown",
      "metadata": {
        "id": "view-in-github",
        "colab_type": "text"
      },
      "source": [
        "<a href=\"https://colab.research.google.com/github/Muyiiwaa/python_and_sql_4_data-analysis/blob/master/march_lesson_one.ipynb\" target=\"_parent\"><img src=\"https://colab.research.google.com/assets/colab-badge.svg\" alt=\"Open In Colab\"/></a>"
      ]
    },
    {
      "cell_type": "markdown",
      "source": [
        "# Lesson 1: Python Basics I – Syntax, Variables, and Data Types\n"
      ],
      "metadata": {
        "id": "qa3HzRbza2iG"
      }
    },
    {
      "cell_type": "markdown",
      "source": [
        "#### 1.  Why Python:\n",
        "\n",
        "Python is a high-level, interpreted programming language.It is widely used in data analysis, machine learning, and automation. Its major application within data analysis is for handling large dataset. Python can easily step in place of every tool in the data analytics stack except SQL.\n",
        "\n",
        "\n",
        "---\n",
        "\n",
        "\n",
        "\n"
      ],
      "metadata": {
        "id": "kqr2T-0NbD7k"
      }
    },
    {
      "cell_type": "markdown",
      "source": [
        "### 2. Comments and Code Execution"
      ],
      "metadata": {
        "id": "MoPyGuYjbn7U"
      }
    },
    {
      "cell_type": "code",
      "execution_count": 1,
      "metadata": {
        "id": "5T1Kn2tUXv_v"
      },
      "outputs": [],
      "source": [
        "# Comments start with #"
      ]
    },
    {
      "cell_type": "markdown",
      "source": [
        "### 3. Variables and Assignment"
      ],
      "metadata": {
        "id": "2c66sYa-bxWl"
      }
    },
    {
      "cell_type": "code",
      "source": [
        "# variables store data"
      ],
      "metadata": {
        "id": "R3i-WETReWUt"
      },
      "execution_count": 2,
      "outputs": []
    },
    {
      "cell_type": "markdown",
      "source": [
        "### 4. Dynamic Typing"
      ],
      "metadata": {
        "id": "GP6wCi6hb1Ng"
      }
    },
    {
      "cell_type": "code",
      "source": [
        "# Python is dynamically typed: you don't declare variable types"
      ],
      "metadata": {
        "id": "QDJVo0jlec1H"
      },
      "execution_count": null,
      "outputs": []
    },
    {
      "cell_type": "markdown",
      "source": [
        "### 5. Data Types Overview"
      ],
      "metadata": {
        "id": "Dch8t5BUb8YM"
      }
    },
    {
      "cell_type": "code",
      "source": [
        "# Common primitive types: int, float, str, bool"
      ],
      "metadata": {
        "id": "HF0W-CVsega-"
      },
      "execution_count": 7,
      "outputs": []
    },
    {
      "cell_type": "markdown",
      "source": [
        "### 7. Type Conversion"
      ],
      "metadata": {
        "id": "-DGhIJIKcFvv"
      }
    },
    {
      "cell_type": "code",
      "source": [
        "# Convert between types using functions like int(), float(), str()"
      ],
      "metadata": {
        "id": "Td-0i4lNe3Y_"
      },
      "execution_count": null,
      "outputs": []
    },
    {
      "cell_type": "markdown",
      "source": [
        "### 8. Arithmetic Operator\n",
        "| Operator | Name             | Example Use         |\n",
        "|----------|------------------|---------------------|\n",
        "| `+`      | Addition         | `5 + 2` → `7`       |\n",
        "| `-`      | Subtraction      | `5 - 2` → `3`       |\n",
        "| `*`      | Multiplication   | `5 * 2` → `10`      |\n",
        "| `/`      | Division         | `5 / 2` → `2.5`     |\n",
        "| `//`     | Floor Division   | `5 // 2` → `2`      |\n",
        "| `%`      | Modulus          | `5 % 2` → `1`       |\n",
        "| `**`     | Exponentiation   | `5 ** 2` → `25`     |"
      ],
      "metadata": {
        "id": "Ns0nr0ghcFif"
      }
    },
    {
      "cell_type": "code",
      "source": [
        "# some basic arithmetic operators:  +, -, *, /, // (floor), % (mod), ** (power)"
      ],
      "metadata": {
        "id": "sy02DYSxe_Nc"
      },
      "execution_count": 8,
      "outputs": []
    },
    {
      "cell_type": "markdown",
      "source": [
        "### 9. Comparison Operators\n",
        "\n",
        "| Operator | Name                 | Example Use        |\n",
        "|----------|----------------------|--------------------|\n",
        "| `==`     | Equal to             | `5 == 2` → `False` |\n",
        "| `!=`     | Not equal to         | `5 != 2` → `True`  |\n",
        "| `>`      | Greater than         | `5 > 2` → `True`   |\n",
        "| `<`      | Less than            | `5 < 2` → `False`  |\n",
        "| `>=`     | Greater than or equal| `5 >= 2` → `True`  |\n",
        "| `<=`     | Less than or equal   | `5 <= 2` → `False` |"
      ],
      "metadata": {
        "id": "VO7Ntco9cFXe"
      }
    },
    {
      "cell_type": "code",
      "source": [
        "# some comparison operators ==, !=, >, <, >=, <=\n",
        "\n"
      ],
      "metadata": {
        "id": "lgZUOQxrfKWD"
      },
      "execution_count": 9,
      "outputs": []
    },
    {
      "cell_type": "markdown",
      "source": [
        "### 10. String Operations"
      ],
      "metadata": {
        "id": "-4Ho86becetu"
      }
    },
    {
      "cell_type": "code",
      "source": [
        "# Strings can be concatenated or repeated"
      ],
      "metadata": {
        "id": "-0sEfjfsfQ5Y"
      },
      "execution_count": 10,
      "outputs": []
    },
    {
      "cell_type": "markdown",
      "source": [
        "### 11. String Methods"
      ],
      "metadata": {
        "id": "BWsR_TencFKB"
      }
    },
    {
      "cell_type": "code",
      "source": [
        "### some popular string method: len, upper, lower, replace"
      ],
      "metadata": {
        "id": "bbVWKLV9fYl-"
      },
      "execution_count": null,
      "outputs": []
    },
    {
      "cell_type": "markdown",
      "source": [
        "### 11. Logical Operators\n",
        "\n",
        "| Operator | Name     | Example Use                |\n",
        "|----------|----------|----------------------------|\n",
        "| `and`    | Logical AND | `True and False` → `False` |\n",
        "| `or`     | Logical OR  | `True or False` → `True`   |\n",
        "| `not`    | Logical NOT | `not True` → `False`       |"
      ],
      "metadata": {
        "id": "--o44JxZceec"
      }
    },
    {
      "cell_type": "code",
      "source": [
        "# logical operators: and, or, not\n"
      ],
      "metadata": {
        "id": "nK9X-OFnfh2H"
      },
      "execution_count": 12,
      "outputs": []
    },
    {
      "cell_type": "markdown",
      "source": [
        "# EXERCISES\n",
        "\n",
        "\n",
        "\n",
        "1. Create two variables, one int and one float. Add them together.\n",
        "2. Take a string and convert it to uppercase, then repeat it 3 times.\n",
        "3. Check if two numbers are equal and print the result.\n",
        "4. write a program that accepts someone's name and returns the number of letters in their name.\n"
      ],
      "metadata": {
        "id": "hM_Gu3C6ceR3"
      }
    },
    {
      "cell_type": "code",
      "source": [],
      "metadata": {
        "id": "nKCxBN-FbwhU"
      },
      "execution_count": null,
      "outputs": []
    }
  ]
}