{
  "nbformat": 4,
  "nbformat_minor": 0,
  "metadata": {
    "colab": {
      "provenance": [],
      "authorship_tag": "ABX9TyOz+qNnYkSxf2IjMi6Qfd6y",
      "include_colab_link": true
    },
    "kernelspec": {
      "name": "python3",
      "display_name": "Python 3"
    },
    "language_info": {
      "name": "python"
    }
  },
  "cells": [
    {
      "cell_type": "markdown",
      "metadata": {
        "id": "view-in-github",
        "colab_type": "text"
      },
      "source": [
        "<a href=\"https://colab.research.google.com/github/Muyiiwaa/python_and_sql_4_data-analysis/blob/master/lesson_four.ipynb\" target=\"_parent\"><img src=\"https://colab.research.google.com/assets/colab-badge.svg\" alt=\"Open In Colab\"/></a>"
      ]
    },
    {
      "cell_type": "markdown",
      "source": [
        "## WHILE LOOP"
      ],
      "metadata": {
        "id": "aRnrlvBP48dV"
      }
    },
    {
      "cell_type": "code",
      "execution_count": 1,
      "metadata": {
        "colab": {
          "base_uri": "https://localhost:8080/"
        },
        "id": "XHbU3B-E3CNr",
        "outputId": "f0b16398-26f1-420c-8239-ab5e9b494302"
      },
      "outputs": [
        {
          "output_type": "stream",
          "name": "stdout",
          "text": [
            "Hello how are you\n",
            "Hello how are you\n",
            "Hello how are you\n",
            "Hello how are you\n",
            "Hello how are you\n"
          ]
        }
      ],
      "source": [
        "# for loop and while loop comparison\n",
        "\n",
        "for i in range(5):\n",
        "  print('Hello how are you')"
      ]
    },
    {
      "cell_type": "code",
      "source": [
        "counter = 0\n",
        "\n",
        "while counter < 5:\n",
        "  print(f'Hello how are you {counter}')\n",
        "  counter += 1"
      ],
      "metadata": {
        "colab": {
          "base_uri": "https://localhost:8080/"
        },
        "id": "2tZ24qXY6LUN",
        "outputId": "ea60aa20-36d2-4601-8f38-93e4e80a431f"
      },
      "execution_count": 3,
      "outputs": [
        {
          "output_type": "stream",
          "name": "stdout",
          "text": [
            "Hello how are you 0\n",
            "Hello how are you 1\n",
            "Hello how are you 2\n",
            "Hello how are you 3\n",
            "Hello how are you 4\n"
          ]
        }
      ]
    },
    {
      "cell_type": "code",
      "source": [
        "# write a program that continuously accept users name and register and greet them\n",
        "while True:\n",
        "  name = input('Enter your name: ')\n",
        "  if name == 'stop':\n",
        "    break\n",
        "  else:\n",
        "    print(f'Hi {name} how are you.')"
      ],
      "metadata": {
        "colab": {
          "base_uri": "https://localhost:8080/"
        },
        "id": "8_MwmHL_7DX2",
        "outputId": "e240a598-4503-463f-ffcc-cfa9fc70d6b0"
      },
      "execution_count": 4,
      "outputs": [
        {
          "name": "stdout",
          "output_type": "stream",
          "text": [
            "Enter your name: wale\n",
            "Hi wale how are you.\n",
            "Enter your name: fola\n",
            "Hi fola how are you.\n",
            "Enter your name: steph\n",
            "Hi steph how are you.\n",
            "Enter your name: stop\n"
          ]
        }
      ]
    },
    {
      "cell_type": "code",
      "source": [
        "# write a program that finds lcm of two numbers.\n",
        "\n",
        "x = int(input('first number: '))\n",
        "y = int(input('second number: '))\n",
        "\n",
        "if x > y:\n",
        "  greater = x\n",
        "else:\n",
        "  greater = y\n",
        "\n",
        "while True:\n",
        "  if greater % x == 0 and greater % y == 0:\n",
        "    print(f'The lcm of {x} and {y} is {greater}')\n",
        "    break\n",
        "  else:\n",
        "    greater += 1"
      ],
      "metadata": {
        "colab": {
          "base_uri": "https://localhost:8080/"
        },
        "id": "5gJXIPoC7qsW",
        "outputId": "9fb6106b-d8e2-48b7-9b5d-cb22eb4e0162"
      },
      "execution_count": 8,
      "outputs": [
        {
          "output_type": "stream",
          "name": "stdout",
          "text": [
            "first number: 12323\n",
            "second number: 34\n",
            "The lcm of 12323 and 34 is 418982\n"
          ]
        }
      ]
    },
    {
      "cell_type": "markdown",
      "source": [
        "## Functions"
      ],
      "metadata": {
        "id": "xO067g7J_Kir"
      }
    },
    {
      "cell_type": "code",
      "source": [
        "# write a function that returns user's age based on their year of birth\n",
        "def get_age(year_birth):\n",
        "  age = 2025 - year_birth\n",
        "\n",
        "  return age\n",
        "\n",
        "get_age(year_birth=1950)"
      ],
      "metadata": {
        "colab": {
          "base_uri": "https://localhost:8080/"
        },
        "id": "jnj5ej7l7rZR",
        "outputId": "21a37145-d255-4c4b-d3c8-c23239d6dd80"
      },
      "execution_count": 20,
      "outputs": [
        {
          "output_type": "execute_result",
          "data": {
            "text/plain": [
              "75"
            ]
          },
          "metadata": {},
          "execution_count": 20
        }
      ]
    },
    {
      "cell_type": "code",
      "source": [
        "get_age(1950)"
      ],
      "metadata": {
        "colab": {
          "base_uri": "https://localhost:8080/"
        },
        "id": "nO5i2bUXAPQ8",
        "outputId": "b52212b0-67a2-42b9-8a87-f08b3f973f9a"
      },
      "execution_count": 10,
      "outputs": [
        {
          "output_type": "execute_result",
          "data": {
            "text/plain": [
              "75"
            ]
          },
          "metadata": {},
          "execution_count": 10
        }
      ]
    },
    {
      "cell_type": "code",
      "source": [
        "# write a function that accepts user's name\n",
        "# and politely tell them their age class.\n",
        "\n",
        "def polite_age(name, year):\n",
        "  age = get_age(year_birth=year)\n",
        "  if age < 13:\n",
        "    print(f'Hi {name} you are a Child')\n",
        "  elif age < 20:\n",
        "    print(f'Hi {name} you are a teen')\n",
        "  else:\n",
        "    print(f'Hi {name} you are an adult')\n",
        "\n",
        "polite_age(name='wale', year= 2001)"
      ],
      "metadata": {
        "colab": {
          "base_uri": "https://localhost:8080/"
        },
        "id": "qG9CpzK-AU1g",
        "outputId": "4a8214fc-86db-43ba-97d2-74e5016a0020"
      },
      "execution_count": 21,
      "outputs": [
        {
          "output_type": "stream",
          "name": "stdout",
          "text": [
            "Hi wale you are an adult\n"
          ]
        }
      ]
    },
    {
      "cell_type": "code",
      "source": [
        "# default arguments\n",
        "\n",
        "# write a function that accepts a user's name, salary\n",
        "# and return their tithe value.\n",
        "\n",
        "def get_tithe(salary, name=None):\n",
        "  if name is None:\n",
        "    return 'get out!'\n",
        "  else:\n",
        "    tithe = salary * 0.1\n",
        "    return f'Hi {name} your tithe is {tithe}'\n",
        "\n",
        "get_tithe(salary= 34000, name = 'femi')"
      ],
      "metadata": {
        "colab": {
          "base_uri": "https://localhost:8080/",
          "height": 35
        },
        "id": "iRPTHsaMBwbX",
        "outputId": "6c46bc3b-18ce-49c2-b5ef-6de5fcf6591e"
      },
      "execution_count": 29,
      "outputs": [
        {
          "output_type": "execute_result",
          "data": {
            "text/plain": [
              "'Hi femi your tithe is 3400.0'"
            ],
            "application/vnd.google.colaboratory.intrinsic+json": {
              "type": "string"
            }
          },
          "metadata": {},
          "execution_count": 29
        }
      ]
    },
    {
      "cell_type": "code",
      "source": [
        "# unlimited arguments.\n",
        "\n",
        "# write a function that computes averages\n",
        "\n",
        "def get_average(*numbers):\n",
        "  average = sum(numbers)/len(numbers)\n",
        "  return average\n",
        "\n",
        "get_average(1,2,3)"
      ],
      "metadata": {
        "colab": {
          "base_uri": "https://localhost:8080/"
        },
        "id": "_M6k1YPeC_3x",
        "outputId": "91a89aad-8e8a-4adf-d189-47f08cb6e943"
      },
      "execution_count": 33,
      "outputs": [
        {
          "output_type": "execute_result",
          "data": {
            "text/plain": [
              "2.0"
            ]
          },
          "metadata": {},
          "execution_count": 33
        }
      ]
    },
    {
      "cell_type": "code",
      "source": [
        "# unlimited keyword arguments.\n",
        "\n",
        "# write a function that accepts user data\n",
        "\n",
        "def get_user_data(**data):\n",
        "  for key, value in data.items():\n",
        "    print(f'{key}: {value}')\n",
        "\n",
        "get_user_data(name='fola',gender='female',status='rich',bmi=23.6)"
      ],
      "metadata": {
        "colab": {
          "base_uri": "https://localhost:8080/"
        },
        "id": "9ATbjzUuFiVu",
        "outputId": "63e55ffe-2895-428d-f066-0ce985878d35"
      },
      "execution_count": 37,
      "outputs": [
        {
          "output_type": "stream",
          "name": "stdout",
          "text": [
            "name: fola\n",
            "gender: female\n",
            "status: rich\n",
            "bmi: 23.6\n"
          ]
        }
      ]
    },
    {
      "cell_type": "code",
      "source": [
        "# write a program that simulates restaurant operation.\n",
        "\n",
        "menu = {\n",
        "    'rice': 400,\n",
        "    'beans': 300,\n",
        "    'beef': 500,\n",
        "    'spag': 200,\n",
        "    'chicken': 1500\n",
        "    }\n",
        "order_note = {}\n",
        "total_cost = 0.0\n",
        "\n",
        "while True:\n",
        "  item = input('item: ')\n",
        "  if item == 'enough':\n",
        "    for item, quantity in order_note.items():\n",
        "      print(f'{item} X {quantity} = ${menu[item] * quantity}')\n",
        "      total_cost += menu[item] * quantity\n",
        "    print(\"=======================\")\n",
        "    print(f'Total cost: ${total_cost}')\n",
        "    break\n",
        "  else:\n",
        "    if item in menu.keys():\n",
        "      quantity = int(input(f'How many {item} do you want?'))\n",
        "      order_note.update({item:quantity})\n",
        "    else:\n",
        "      print(f'{item} is not available')"
      ],
      "metadata": {
        "colab": {
          "base_uri": "https://localhost:8080/"
        },
        "id": "kZdysj8NGjXZ",
        "outputId": "9ce89656-3d26-422c-d091-80e29e1021e8"
      },
      "execution_count": 43,
      "outputs": [
        {
          "output_type": "stream",
          "name": "stdout",
          "text": [
            "item: rice\n",
            "How many rice do you want?3\n",
            "item: beans\n",
            "How many beans do you want?5\n",
            "item: chicken\n",
            "How many chicken do you want?2\n",
            "item: enough\n",
            "rice X 3 = $1200\n",
            "beans X 5 = $1500\n",
            "chicken X 2 = $3000\n",
            "=======================\n",
            "Total cost: $5700.0\n"
          ]
        }
      ]
    },
    {
      "cell_type": "code",
      "source": [
        "menu['rice']"
      ],
      "metadata": {
        "colab": {
          "base_uri": "https://localhost:8080/"
        },
        "id": "pEcxrmKLL8AG",
        "outputId": "7a33b1de-6de0-4e2e-a1f5-348d4e061138"
      },
      "execution_count": 45,
      "outputs": [
        {
          "output_type": "execute_result",
          "data": {
            "text/plain": [
              "400"
            ]
          },
          "metadata": {},
          "execution_count": 45
        }
      ]
    },
    {
      "cell_type": "code",
      "source": [
        "# write a function that converts naira to dollar.\n"
      ],
      "metadata": {
        "id": "EwN4OLVbNAVI"
      },
      "execution_count": null,
      "outputs": []
    },
    {
      "cell_type": "markdown",
      "source": [
        "[python for data analysis youtube playlist](https://www.youtube.com/playlist?list=PLf43guw17cek_SNIfHBUkYxEyO5lUYbtE)"
      ],
      "metadata": {
        "id": "IskyXTbTOQRm"
      }
    },
    {
      "cell_type": "code",
      "source": [],
      "metadata": {
        "id": "TqKZB7YAOW65"
      },
      "execution_count": null,
      "outputs": []
    }
  ]
}