{
 "cells": [
  {
   "cell_type": "markdown",
   "id": "840a7fa2",
   "metadata": {},
   "source": [
    "### FUNCTIONS IN PYTHON."
   ]
  },
  {
   "cell_type": "code",
   "execution_count": 1,
   "id": "31b56a40",
   "metadata": {},
   "outputs": [
    {
     "name": "stdout",
     "output_type": "stream",
     "text": [
      "Hi wale how are you?\n"
     ]
    }
   ],
   "source": [
    "name = input('Enter your name: ')\n",
    "print(f\"Hi {name} how are you?\")"
   ]
  },
  {
   "cell_type": "code",
   "execution_count": 2,
   "id": "78c98c80",
   "metadata": {},
   "outputs": [
    {
     "data": {
      "text/plain": [
       "'Hi bayo how are you'"
      ]
     },
     "execution_count": 2,
     "metadata": {},
     "output_type": "execute_result"
    }
   ],
   "source": [
    "def greet(name):\n",
    "    greeting = f'Hi {name} how are you'\n",
    "    return greeting\n",
    "\n",
    "greet(name='bayo')"
   ]
  },
  {
   "cell_type": "code",
   "execution_count": 3,
   "id": "e4d716e8",
   "metadata": {},
   "outputs": [
    {
     "data": {
      "text/plain": [
       "'Hi kemi how are you'"
      ]
     },
     "execution_count": 3,
     "metadata": {},
     "output_type": "execute_result"
    }
   ],
   "source": [
    "greet(name='kemi')"
   ]
  },
  {
   "cell_type": "code",
   "execution_count": 5,
   "id": "a720e99a",
   "metadata": {},
   "outputs": [
    {
     "data": {
      "text/plain": [
       "2.3"
      ]
     },
     "execution_count": 5,
     "metadata": {},
     "output_type": "execute_result"
    }
   ],
   "source": [
    "# write a function that converts naira to dollar\n",
    "\n",
    "def converter_currency(base_type, amount):\n",
    "    if base_type == 'naira':\n",
    "        converted_amount = amount / 1500\n",
    "    elif base_type == 'dollar':\n",
    "        converted_amount = amount * 1500\n",
    "    return converted_amount\n",
    "\n",
    "converter_currency(base_type='naira', amount = 3450)"
   ]
  },
  {
   "cell_type": "code",
   "execution_count": 6,
   "id": "46ec9d06",
   "metadata": {},
   "outputs": [
    {
     "data": {
      "text/plain": [
       "3449.9999999999995"
      ]
     },
     "execution_count": 6,
     "metadata": {},
     "output_type": "execute_result"
    }
   ],
   "source": [
    "converter_currency('dollar', 2.3)"
   ]
  },
  {
   "cell_type": "markdown",
   "id": "98677fb9",
   "metadata": {},
   "source": [
    "#### Unlimited Argument"
   ]
  },
  {
   "cell_type": "code",
   "execution_count": 12,
   "id": "86c6890b",
   "metadata": {},
   "outputs": [
    {
     "data": {
      "text/plain": [
       "2.5"
      ]
     },
     "execution_count": 12,
     "metadata": {},
     "output_type": "execute_result"
    }
   ],
   "source": [
    "# write a function that computes averages\n",
    "\n",
    "def get_averages(*nums):\n",
    "    average = sum(nums)/len(nums)\n",
    "    return average\n",
    "\n",
    "\n",
    "get_averages(2,3)"
   ]
  },
  {
   "cell_type": "markdown",
   "id": "a8b97a58",
   "metadata": {},
   "source": [
    "#### Unlimited Keyword Arguments"
   ]
  },
  {
   "cell_type": "code",
   "execution_count": 20,
   "id": "52266f1d",
   "metadata": {},
   "outputs": [
    {
     "data": {
      "text/plain": [
       "({}, {'height': 23.5, 'bmi': 15.8})"
      ]
     },
     "execution_count": 20,
     "metadata": {},
     "output_type": "execute_result"
    }
   ],
   "source": [
    "# write a function that takes user info and log the important \n",
    "# and unimportant details separately.\n",
    "\n",
    "def log_details(**details):\n",
    "    important_details = {}\n",
    "    other_details = {}\n",
    "\n",
    "    needed = ['name','age','sex']\n",
    "\n",
    "    for key, value in details.items():\n",
    "        if key in needed:\n",
    "            important_details.update({key:value})\n",
    "        else:\n",
    "            other_details.update({key:value})\n",
    "\n",
    "    return important_details, other_details\n",
    "\n",
    "\n",
    "log_details(height = 23.5,bmi=15.8)"
   ]
  },
  {
   "cell_type": "code",
   "execution_count": 16,
   "id": "edbab8e5",
   "metadata": {},
   "outputs": [
    {
     "name": "stdout",
     "output_type": "stream",
     "text": [
      "lagos ikeja\n",
      "naija minna\n"
     ]
    }
   ],
   "source": [
    "nigeria = {\n",
    "    'lagos': 'ikeja',\n",
    "    'naija': 'minna'\n",
    "}\n",
    "\n",
    "for name, capital in nigeria.items():\n",
    "    print(name, capital)"
   ]
  },
  {
   "cell_type": "code",
   "execution_count": 22,
   "id": "88303593",
   "metadata": {},
   "outputs": [],
   "source": [
    "# write a function that accepts someone's year of birth and return their age.\n",
    "\n",
    "\n",
    "def get_age(birth_year):\n",
    "    age = 2025 - birth_year\n",
    "\n",
    "    return age"
   ]
  },
  {
   "cell_type": "code",
   "execution_count": 24,
   "id": "991c834f",
   "metadata": {},
   "outputs": [
    {
     "data": {
      "text/plain": [
       "20"
      ]
     },
     "execution_count": 24,
     "metadata": {},
     "output_type": "execute_result"
    }
   ],
   "source": [
    "get_age(birth_year=2005)"
   ]
  },
  {
   "cell_type": "code",
   "execution_count": null,
   "id": "26dbd200",
   "metadata": {},
   "outputs": [],
   "source": []
  }
 ],
 "metadata": {
  "kernelspec": {
   "display_name": "Python 3",
   "language": "python",
   "name": "python3"
  },
  "language_info": {
   "codemirror_mode": {
    "name": "ipython",
    "version": 3
   },
   "file_extension": ".py",
   "mimetype": "text/x-python",
   "name": "python",
   "nbconvert_exporter": "python",
   "pygments_lexer": "ipython3",
   "version": "3.12.1"
  }
 },
 "nbformat": 4,
 "nbformat_minor": 5
}
