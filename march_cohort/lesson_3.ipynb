{
 "cells": [
  {
   "cell_type": "markdown",
   "id": "5d87ab44",
   "metadata": {},
   "source": [
    "## LESSON 3 (LOOPS AND FUNCTIONS)"
   ]
  },
  {
   "cell_type": "markdown",
   "id": "b26e2f58",
   "metadata": {},
   "source": [
    "### 1. FOR LOOP"
   ]
  },
  {
   "cell_type": "code",
   "execution_count": 1,
   "id": "66d7140f",
   "metadata": {},
   "outputs": [
    {
     "name": "stdout",
     "output_type": "stream",
     "text": [
      "Hello\n",
      "Hello\n",
      "Hello\n",
      "Hello\n",
      "Hello\n"
     ]
    }
   ],
   "source": [
    "# write a program that prints 'hello' 5 times\n",
    "\n",
    "print('Hello')\n",
    "print('Hello')\n",
    "print('Hello')\n",
    "print('Hello')\n",
    "print('Hello')"
   ]
  },
  {
   "cell_type": "code",
   "execution_count": 3,
   "id": "145eeb24",
   "metadata": {},
   "outputs": [
    {
     "name": "stdout",
     "output_type": "stream",
     "text": [
      "Hello\n",
      "Hello\n",
      "Hello\n",
      "Hello\n",
      "Hello\n"
     ]
    }
   ],
   "source": [
    "for i in range(5):\n",
    "    print('Hello')"
   ]
  },
  {
   "cell_type": "code",
   "execution_count": 7,
   "id": "ef11df42",
   "metadata": {},
   "outputs": [
    {
     "name": "stdout",
     "output_type": "stream",
     "text": [
      "[2, 3, 4, 5, 6, 7, 8, 9, 10, 11, 12, 13, 14, 15, 16, 17, 18, 19, 20]\n"
     ]
    },
    {
     "data": {
      "text/plain": [
       "[2, 4, 6, 8, 10, 12, 14, 16, 18, 20]"
      ]
     },
     "execution_count": 7,
     "metadata": {},
     "output_type": "execute_result"
    }
   ],
   "source": [
    "# return the even numbers between 2 and 20\n",
    "\n",
    "list_of_numbers = list(range(2, 21))\n",
    "print(list_of_numbers)\n",
    "\n",
    "# returning even numbers\n",
    "empty_bucket = []\n",
    "for number in list_of_numbers:\n",
    "    if number % 2 == 0:\n",
    "        empty_bucket.append(number)\n",
    "\n",
    "empty_bucket"
   ]
  },
  {
   "cell_type": "code",
   "execution_count": 16,
   "id": "02822afe",
   "metadata": {},
   "outputs": [
    {
     "name": "stdout",
     "output_type": "stream",
     "text": [
      "35 is not prime\n"
     ]
    }
   ],
   "source": [
    "# write a program that checks if a number is prime or not.\n",
    "\n",
    "number_to_check = int(input('Enter the number'))\n",
    "for number in range(2, number_to_check):\n",
    "    if number_to_check % number == 0:\n",
    "        print(f'{number_to_check} is not prime')\n",
    "        break\n",
    "else:\n",
    "    print(f'{number_to_check} is prime')\n"
   ]
  },
  {
   "cell_type": "markdown",
   "id": "65181cdc",
   "metadata": {},
   "source": [
    "### WHILE LOOP"
   ]
  },
  {
   "cell_type": "code",
   "execution_count": 17,
   "id": "8ee5fb5c",
   "metadata": {},
   "outputs": [
    {
     "name": "stdout",
     "output_type": "stream",
     "text": [
      "Hello\n",
      "Hello\n",
      "Hello\n",
      "Hello\n",
      "Hello\n"
     ]
    }
   ],
   "source": [
    "counter = 0\n",
    "while counter < 5:\n",
    "    print('Hello')\n",
    "    counter += 1"
   ]
  },
  {
   "cell_type": "code",
   "execution_count": 22,
   "id": "5ddf2cc5",
   "metadata": {},
   "outputs": [],
   "source": [
    "register = []"
   ]
  },
  {
   "cell_type": "code",
   "execution_count": 26,
   "id": "878ec143",
   "metadata": {},
   "outputs": [
    {
     "name": "stdout",
     "output_type": "stream",
     "text": [
      "welcome samson\n",
      "fola is already registered\n",
      "welcome toyin\n",
      "welcome bidemi\n"
     ]
    }
   ],
   "source": [
    "# write a program that simulats attendance register\n",
    "\n",
    "while True:\n",
    "    name = input('Enter your name: ')\n",
    "    if name == 'stop':\n",
    "        break\n",
    "    else:\n",
    "        if name in register:\n",
    "            print(f'{name} is already registered')\n",
    "        else:\n",
    "            register.append(name)\n",
    "            print(f'welcome {name}')"
   ]
  },
  {
   "cell_type": "code",
   "execution_count": 31,
   "id": "c857a0ce",
   "metadata": {},
   "outputs": [
    {
     "name": "stdout",
     "output_type": "stream",
     "text": [
      "$556.0 is 834000.0 naira\n",
      "$24.0 is 36000.0 naira\n",
      "Thank you! come back !\n"
     ]
    }
   ],
   "source": [
    "# write a program that simulates currency exchange\n",
    "\n",
    "while True:\n",
    "    dollar_amount = input('Enter the dollar amount or \"stop\" to quit: ')\n",
    "    if dollar_amount == 'stop':\n",
    "        print('Thank you! come back !')\n",
    "        break\n",
    "    else:\n",
    "        dollar_amount = float(dollar_amount)\n",
    "        naira = dollar_amount * 1500\n",
    "        print(f'${dollar_amount} is {naira} naira')\n",
    "\n"
   ]
  },
  {
   "cell_type": "code",
   "execution_count": 30,
   "id": "6138ce87",
   "metadata": {},
   "outputs": [
    {
     "data": {
      "text/plain": [
       "True"
      ]
     },
     "execution_count": 30,
     "metadata": {},
     "output_type": "execute_result"
    }
   ],
   "source": [
    "isinstance(44.5, float)"
   ]
  },
  {
   "cell_type": "code",
   "execution_count": 40,
   "id": "2830237e",
   "metadata": {},
   "outputs": [
    {
     "name": "stdout",
     "output_type": "stream",
     "text": [
      "You bet $10.0\n",
      "current balance is $20.0\n",
      "it is a tie\n",
      "You bet $5.0\n",
      "current balance is $20.0\n",
      "it is a tie\n",
      "You bet $5.0\n",
      "current balance is $20.0\n",
      "You chose rock and computer chose paper, computer wins!\n",
      "You bet $5.0\n",
      "current balance is $15.0\n",
      "You chose rock and computer chose scissors, You win!\n",
      "You bet $20.0\n",
      "current balance is $20.0\n",
      "You chose rock and computer chose paper, computer wins!\n"
     ]
    }
   ],
   "source": [
    "# write a program that simulates rock, paper scissors.\n",
    "import random\n",
    "\n",
    "rule = {\n",
    "    'rock':'scissors',\n",
    "    'scissors': 'paper',\n",
    "    'paper': 'rock'\n",
    "}\n",
    "\n",
    "list_choice = ['rock','paper','scissors']\n",
    "\n",
    "deposit = float(input('Please deposit to play: '))\n",
    "\n",
    "while deposit > 0:\n",
    "    bet = float(input('Please place your bet: '))\n",
    "    print(f'You bet ${bet}')\n",
    "    print(f'current balance is ${deposit}')\n",
    "    player_choice = input('Make a choice: ')\n",
    "    computer_choice = random.choice(list_choice)\n",
    "    if rule[computer_choice] == player_choice:\n",
    "        deposit -= bet\n",
    "        print(f'You chose {player_choice} and computer chose {computer_choice}, computer wins!')\n",
    "    elif rule[player_choice] == computer_choice:\n",
    "        deposit += bet\n",
    "        print(f'You chose {player_choice} and computer chose {computer_choice}, You win!')\n",
    "    else:\n",
    "        print('it is a tie')\n"
   ]
  },
  {
   "cell_type": "code",
   "execution_count": 36,
   "id": "aeaa4ff9",
   "metadata": {},
   "outputs": [
    {
     "name": "stdout",
     "output_type": "stream",
     "text": [
      "paper\n"
     ]
    }
   ],
   "source": [
    "import random\n",
    "\n",
    "list_choice = ['rock','paper','scissors']\n",
    "\n",
    "print(random.choice(list_choice))"
   ]
  },
  {
   "cell_type": "code",
   "execution_count": 37,
   "id": "9ac6927d",
   "metadata": {},
   "outputs": [
    {
     "data": {
      "text/plain": [
       "'scissors'"
      ]
     },
     "execution_count": 37,
     "metadata": {},
     "output_type": "execute_result"
    }
   ],
   "source": [
    "rule = {\n",
    "    'rock':'scissors',\n",
    "    'scissors': 'paper',\n",
    "    'paper': 'rock'\n",
    "}\n",
    "\n",
    "rule['rock']"
   ]
  },
  {
   "cell_type": "code",
   "execution_count": null,
   "id": "ca6c1d77",
   "metadata": {},
   "outputs": [],
   "source": []
  }
 ],
 "metadata": {
  "kernelspec": {
   "display_name": "Python 3",
   "language": "python",
   "name": "python3"
  },
  "language_info": {
   "codemirror_mode": {
    "name": "ipython",
    "version": 3
   },
   "file_extension": ".py",
   "mimetype": "text/x-python",
   "name": "python",
   "nbconvert_exporter": "python",
   "pygments_lexer": "ipython3",
   "version": "3.12.1"
  }
 },
 "nbformat": 4,
 "nbformat_minor": 5
}
