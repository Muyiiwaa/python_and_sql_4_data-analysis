{
 "cells": [
  {
   "cell_type": "markdown",
   "id": "f4139795",
   "metadata": {},
   "source": [
    "## Pandas Intro"
   ]
  },
  {
   "cell_type": "code",
   "execution_count": 1,
   "id": "7cf1d1c9",
   "metadata": {},
   "outputs": [],
   "source": [
    "import pandas as pd\n",
    "import numpy as np"
   ]
  },
  {
   "cell_type": "code",
   "execution_count": null,
   "id": "3a279a2f",
   "metadata": {},
   "outputs": [],
   "source": [
    "# create our dataframe\n",
    "\n",
    "# from dictionary\n",
    "\n",
    "students = {\n",
    "    'name': ['fola','titi','folu','kemi'],\n",
    "    'age': [12,23,54,43],\n",
    "    'gender': ['f','m','m','f']\n",
    "}\n",
    "\n",
    "# turn the dictionary to a dataframe\n",
    "students_df = pd.DataFrame(data=students)\n",
    "students_df"
   ]
  },
  {
   "cell_type": "code",
   "execution_count": 4,
   "id": "ed5b534b",
   "metadata": {},
   "outputs": [
    {
     "data": {
      "text/html": [
       "<div>\n",
       "<style scoped>\n",
       "    .dataframe tbody tr th:only-of-type {\n",
       "        vertical-align: middle;\n",
       "    }\n",
       "\n",
       "    .dataframe tbody tr th {\n",
       "        vertical-align: top;\n",
       "    }\n",
       "\n",
       "    .dataframe thead th {\n",
       "        text-align: right;\n",
       "    }\n",
       "</style>\n",
       "<table border=\"1\" class=\"dataframe\">\n",
       "  <thead>\n",
       "    <tr style=\"text-align: right;\">\n",
       "      <th></th>\n",
       "      <th>club_name</th>\n",
       "      <th>no_of_ucl</th>\n",
       "      <th>best_player</th>\n",
       "    </tr>\n",
       "  </thead>\n",
       "  <tbody>\n",
       "    <tr>\n",
       "      <th>0</th>\n",
       "      <td>man utd</td>\n",
       "      <td>3</td>\n",
       "      <td>bruno</td>\n",
       "    </tr>\n",
       "    <tr>\n",
       "      <th>1</th>\n",
       "      <td>chelsea</td>\n",
       "      <td>2</td>\n",
       "      <td>palmer</td>\n",
       "    </tr>\n",
       "    <tr>\n",
       "      <th>2</th>\n",
       "      <td>arsenal</td>\n",
       "      <td>0</td>\n",
       "      <td>saka</td>\n",
       "    </tr>\n",
       "    <tr>\n",
       "      <th>3</th>\n",
       "      <td>barca</td>\n",
       "      <td>5</td>\n",
       "      <td>yamal</td>\n",
       "    </tr>\n",
       "  </tbody>\n",
       "</table>\n",
       "</div>"
      ],
      "text/plain": [
       "  club_name  no_of_ucl best_player\n",
       "0   man utd          3       bruno\n",
       "1   chelsea          2      palmer\n",
       "2   arsenal          0        saka\n",
       "3     barca          5       yamal"
      ]
     },
     "execution_count": 4,
     "metadata": {},
     "output_type": "execute_result"
    }
   ],
   "source": [
    "# create a dataframe from a list of lists\n",
    "\n",
    "clubs = [\n",
    "    ['man utd', 3, 'bruno'],\n",
    "    ['chelsea', 2, 'palmer'],\n",
    "    ['arsenal', 0, 'saka'],\n",
    "    ['barca', 5, 'yamal']\n",
    "]\n",
    "\n",
    "column_names = ['club_name','no_of_ucl','best_player']\n",
    "\n",
    "club_df = pd.DataFrame(data=clubs, columns=column_names)\n",
    "club_df"
   ]
  },
  {
   "cell_type": "code",
   "execution_count": null,
   "id": "ce098f9a",
   "metadata": {},
   "outputs": [],
   "source": []
  }
 ],
 "metadata": {
  "kernelspec": {
   "display_name": "Python 3",
   "language": "python",
   "name": "python3"
  },
  "language_info": {
   "codemirror_mode": {
    "name": "ipython",
    "version": 3
   },
   "file_extension": ".py",
   "mimetype": "text/x-python",
   "name": "python",
   "nbconvert_exporter": "python",
   "pygments_lexer": "ipython3",
   "version": "3.12.1"
  }
 },
 "nbformat": 4,
 "nbformat_minor": 5
}
