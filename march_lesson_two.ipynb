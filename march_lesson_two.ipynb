{
  "cells": [
    {
      "cell_type": "markdown",
      "metadata": {
        "colab_type": "text",
        "id": "view-in-github"
      },
      "source": [
        "<a href=\"https://colab.research.google.com/github/Muyiiwaa/python_and_sql_4_data-analysis/blob/master/march_lesson_two.ipynb\" target=\"_parent\"><img src=\"https://colab.research.google.com/assets/colab-badge.svg\" alt=\"Open In Colab\"/></a>"
      ]
    },
    {
      "cell_type": "markdown",
      "metadata": {
        "id": "qa3HzRbza2iG"
      },
      "source": [
        "# Lesson 2: Python Basics II – Basic Data Structures\n",
        "\n",
        "\n",
        "---\n",
        "\n"
      ]
    },
    {
      "cell_type": "markdown",
      "metadata": {
        "id": "kqr2T-0NbD7k"
      },
      "source": [
        "#### Python has four primary built-in collection types:\n",
        "- List: ordered, mutable, allows duplicates\n",
        "- Tuple: ordered, immutable, allows duplicates\n",
        "- Set: unordered, mutable, no duplicates\n",
        "- Dictionary: key-value pairs, unordered (Python 3.6+ maintains insertion order)\n",
        "\n",
        "---\n",
        "\n",
        "\n",
        "\n"
      ]
    },
    {
      "cell_type": "markdown",
      "metadata": {
        "id": "MoPyGuYjbn7U"
      },
      "source": [
        "### 2. List Creation and INdexing"
      ]
    },
    {
      "cell_type": "code",
      "execution_count": 3,
      "metadata": {
        "id": "5T1Kn2tUXv_v"
      },
      "outputs": [
        {
          "name": "stdout",
          "output_type": "stream",
          "text": [
            "<class 'list'>\n",
            "['fola', 'segun', 'tola', 'femi']\n"
          ]
        }
      ],
      "source": [
        "# create and index a list\n",
        "\n",
        "## create a students list\n",
        "\n",
        "students = ['fola','segun','tola','femi']\n",
        "print(type(students))\n",
        "print(students)"
      ]
    },
    {
      "cell_type": "markdown",
      "metadata": {
        "id": "2c66sYa-bxWl"
      },
      "source": [
        "### 3. Lists – Modification and Methods"
      ]
    },
    {
      "cell_type": "code",
      "execution_count": 15,
      "metadata": {
        "id": "R3i-WETReWUt"
      },
      "outputs": [
        {
          "name": "stdout",
          "output_type": "stream",
          "text": [
            "['kiwi', 'apple', 'orange']\n",
            "['apple', 'orange', 'mango']\n",
            "There are 3 elements in fruits list\n",
            "sum of ages: 104\n"
          ]
        },
        {
          "data": {
            "text/plain": [
              "[43, 23, 15, 12, 11]"
            ]
          },
          "execution_count": 15,
          "metadata": {},
          "output_type": "execute_result"
        }
      ],
      "source": [
        "# some list methods\n",
        "\n",
        "# append method\n",
        "fruits = ['kiwi','apple','orange']\n",
        "print(fruits)\n",
        "fruits.append('mango')\n",
        "fruits\n",
        "\n",
        "# remove method\n",
        "fruits.remove('kiwi')\n",
        "print(fruits)\n",
        "\n",
        "# len function\n",
        "print(f'There are {len(fruits)} elements in fruits list')\n",
        "\n",
        "\n",
        "# sum function\n",
        "ages = [12,11,43,23,15]\n",
        "print(f'sum of ages: {sum(ages)}')\n",
        "\n",
        "# sorted\n",
        "sorted(ages, reverse=True)"
      ]
    },
    {
      "cell_type": "markdown",
      "metadata": {
        "id": "GP6wCi6hb1Ng"
      },
      "source": [
        "### 4. List Indexing & Slicing"
      ]
    },
    {
      "cell_type": "code",
      "execution_count": null,
      "metadata": {
        "id": "QDJVo0jlec1H"
      },
      "outputs": [
        {
          "name": "stdout",
          "output_type": "stream",
          "text": [
            "12\n",
            "11\n",
            "49\n",
            "11\n",
            "['segun', [True, False], 23, 45.7]\n",
            "yellow\n"
          ]
        }
      ],
      "source": [
        "numbers = [11,23,12,3,56,7,8,6,5,49]\n",
        "\n",
        "# forward indexing\n",
        "print(numbers[2]) # returns 12\n",
        "print(numbers[0]) # returns the first element\n",
        "\n",
        "# backward indexing \n",
        "print(numbers[-1]) # returns the last element\n",
        "print(numbers[-10])\n",
        "\n",
        "some_weird_list = ['segun', [True, False],\n",
        "                   23, 45.7]\n",
        "print(some_weird_list)\n",
        "\n",
        "# create a list of lists representing class of food\n",
        "food_class = [\n",
        "   ['rice','carbohydrate','white'],\n",
        "    ['orange','vitamin','yellow'],\n",
        "    ['fish', 'protein','silver']\n",
        "]\n",
        "\n",
        "print(food_class[1][2])"
      ]
    },
    {
      "cell_type": "code",
      "execution_count": 89,
      "metadata": {},
      "outputs": [
        {
          "name": "stdout",
          "output_type": "stream",
          "text": [
            "[6, 8, 10, 12]\n",
            "[2, 4, 6, 8]\n"
          ]
        },
        {
          "data": {
            "text/plain": [
              "[14, 16, 18, 20]"
            ]
          },
          "execution_count": 89,
          "metadata": {},
          "output_type": "execute_result"
        }
      ],
      "source": [
        "# slice a list\n",
        "numbers = list(range(2, 21, 2))\n",
        "\n",
        "print(numbers[2:6])\n",
        "print(numbers[:4])\n",
        "numbers[-4:]"
      ]
    },
    {
      "cell_type": "code",
      "execution_count": 26,
      "metadata": {},
      "outputs": [],
      "source": [
        "# write a simple program that registers students.\n",
        "students = []"
      ]
    },
    {
      "cell_type": "code",
      "execution_count": 29,
      "metadata": {},
      "outputs": [
        {
          "name": "stdout",
          "output_type": "stream",
          "text": [
            "['fola', 'segun']\n"
          ]
        }
      ],
      "source": [
        "name = input('Welcome, enter your name: ')\n",
        "students.append(name)\n",
        "print(students)"
      ]
    },
    {
      "cell_type": "markdown",
      "metadata": {
        "id": "Dch8t5BUb8YM"
      },
      "source": [
        "### 5.Tuples"
      ]
    },
    {
      "cell_type": "code",
      "execution_count": 30,
      "metadata": {
        "id": "HF0W-CVsega-"
      },
      "outputs": [
        {
          "name": "stdout",
          "output_type": "stream",
          "text": [
            "<class 'tuple'>\n"
          ]
        }
      ],
      "source": [
        "# Create a tuple\n",
        "states = ('rivers','oyo','lagos')\n",
        "print(type(states))"
      ]
    },
    {
      "cell_type": "markdown",
      "metadata": {},
      "source": [
        "### Tuple methods and functions"
      ]
    },
    {
      "cell_type": "code",
      "execution_count": 34,
      "metadata": {},
      "outputs": [
        {
          "data": {
            "text/plain": [
              "3"
            ]
          },
          "execution_count": 34,
          "metadata": {},
          "output_type": "execute_result"
        }
      ],
      "source": [
        "# sorted tuples\n",
        "sorted(states)\n",
        "\n",
        "# len \n",
        "len(states)"
      ]
    },
    {
      "cell_type": "markdown",
      "metadata": {
        "id": "-DGhIJIKcFvv"
      },
      "source": [
        "### 7. Tuple Unpacking"
      ]
    },
    {
      "cell_type": "code",
      "execution_count": 46,
      "metadata": {
        "id": "Td-0i4lNe3Y_"
      },
      "outputs": [
        {
          "name": "stdout",
          "output_type": "stream",
          "text": [
            "rivers\n",
            "<class 'tuple'>\n"
          ]
        }
      ],
      "source": [
        "# unpack a tuple\n",
        "\n",
        "state_fifty, state_two, state_three = states\n",
        "print(state_fifty)\n",
        "\n",
        "\n",
        "staff = 'femi', 'fola'\n",
        "type(staff)\n",
        "\n",
        "school = ('ui',)\n",
        "print(type(school))"
      ]
    },
    {
      "cell_type": "code",
      "execution_count": 45,
      "metadata": {},
      "outputs": [
        {
          "data": {
            "text/plain": [
              "'rivers'"
            ]
          },
          "execution_count": 45,
          "metadata": {},
          "output_type": "execute_result"
        }
      ],
      "source": [
        "states[0]"
      ]
    },
    {
      "cell_type": "markdown",
      "metadata": {
        "id": "Ns0nr0ghcFif"
      },
      "source": [
        "### 8.Sets – Unordered Unique Collections"
      ]
    },
    {
      "cell_type": "code",
      "execution_count": null,
      "metadata": {
        "id": "sy02DYSxe_Nc"
      },
      "outputs": [
        {
          "name": "stdout",
          "output_type": "stream",
          "text": [
            "{'a', 23, 'i', 'u', 'o', 'e'}\n",
            "{1, 5, 6, 23, 11, 47}\n",
            "{1, 5, 6, 'i', 11, 'e', 47, 'a', 23, 'u', 'o'}\n"
          ]
        }
      ],
      "source": [
        "# create a set\n",
        "\n",
        "vowels = {'a','i','e','i','o','u',23}\n",
        "print(vowels)\n",
        "\n",
        "numbers = {47,23,1,11,6,5,23}\n",
        "print(numbers)\n",
        "\n"
      ]
    },
    {
      "cell_type": "markdown",
      "metadata": {
        "id": "VO7Ntco9cFXe"
      },
      "source": [
        "### 9. Set Operations\n"
      ]
    },
    {
      "cell_type": "code",
      "execution_count": 58,
      "metadata": {
        "id": "lgZUOQxrfKWD"
      },
      "outputs": [
        {
          "name": "stdout",
          "output_type": "stream",
          "text": [
            "{1, 5, 6, 'i', 11, 'e', 47, 'a', 23, 'u', 'o'}\n",
            "{1, 5, 6, 11, 47}\n",
            "{23}\n"
          ]
        }
      ],
      "source": [
        "# some set operation\n",
        "\n",
        "# union\n",
        "print(numbers | vowels)\n",
        "\n",
        "# difference\n",
        "print(numbers - vowels)\n",
        "\n",
        "# intersection\n",
        "print(numbers & vowels)"
      ]
    },
    {
      "cell_type": "markdown",
      "metadata": {
        "id": "-4Ho86becetu"
      },
      "source": [
        "### 10. Dictionaries – Key-Value Pairs"
      ]
    },
    {
      "cell_type": "code",
      "execution_count": 59,
      "metadata": {
        "id": "-0sEfjfsfQ5Y"
      },
      "outputs": [
        {
          "name": "stdout",
          "output_type": "stream",
          "text": [
            "<class 'dict'>\n"
          ]
        }
      ],
      "source": [
        "# create a dictionary\n",
        "\n",
        "nigeria = {\n",
        "    'osun':'osogbo',\n",
        "    'oyo': 'ibadan',\n",
        "    'kwara': 'ilorin',\n",
        "    'kogi': 'lokoja'\n",
        "}\n",
        "print(type(nigeria))"
      ]
    },
    {
      "cell_type": "markdown",
      "metadata": {},
      "source": [
        "#### LOOKUPS IN DICTIONARIES"
      ]
    },
    {
      "cell_type": "code",
      "execution_count": 66,
      "metadata": {},
      "outputs": [
        {
          "data": {
            "text/plain": [
              "{'osun': 'osogbo',\n",
              " 'oyo': 'ibadan',\n",
              " 'kwara': 'ilorin',\n",
              " 'kogi': 'lokoja',\n",
              " 'rivers': 'port-harcourt',\n",
              " 'ogun': 'abeokuta'}"
            ]
          },
          "execution_count": 66,
          "metadata": {},
          "output_type": "execute_result"
        }
      ],
      "source": [
        "# doing a key lookup\n",
        "nigeria['osun']\n",
        "\n",
        "# updatting a dictionary using lookup method\n",
        "nigeria['ogun'] = 'abeokuta'\n",
        "nigeria"
      ]
    },
    {
      "cell_type": "markdown",
      "metadata": {
        "id": "BWsR_TencFKB"
      },
      "source": [
        "### 11. Dictionary Methods"
      ]
    },
    {
      "cell_type": "code",
      "execution_count": 63,
      "metadata": {
        "id": "bbVWKLV9fYl-"
      },
      "outputs": [
        {
          "name": "stdout",
          "output_type": "stream",
          "text": [
            "dict_keys(['osun', 'oyo', 'kwara', 'kogi', 'rivers'])\n",
            "dict_values(['osogbo', 'ibadan', 'ilorin', 'lokoja', 'port-harcourt'])\n",
            "{'osun': 'osogbo', 'oyo': 'ibadan', 'kwara': 'ilorin', 'kogi': 'lokoja', 'rivers': 'port-harcourt'}\n"
          ]
        },
        {
          "data": {
            "text/plain": [
              "dict_items([('osun', 'osogbo'), ('oyo', 'ibadan'), ('kwara', 'ilorin'), ('kogi', 'lokoja'), ('rivers', 'port-harcourt')])"
            ]
          },
          "execution_count": 63,
          "metadata": {},
          "output_type": "execute_result"
        }
      ],
      "source": [
        "### some dictionary  method\n",
        "\n",
        "# keys method\n",
        "\n",
        "print(nigeria.keys())\n",
        "\n",
        "# values method\n",
        "print(nigeria.values())\n",
        "\n",
        "# update\n",
        "nigeria.update({'rivers':'port-harcourt'})\n",
        "print(nigeria)\n",
        "\n",
        "# items\n",
        "nigeria.items()"
      ]
    },
    {
      "cell_type": "code",
      "execution_count": 67,
      "metadata": {},
      "outputs": [],
      "source": [
        "# create a fake student signup program.\n",
        "\n",
        "students = {}"
      ]
    },
    {
      "cell_type": "code",
      "execution_count": 71,
      "metadata": {},
      "outputs": [
        {
          "name": "stdout",
          "output_type": "stream",
          "text": [
            "User gbemi created successfully\n"
          ]
        }
      ],
      "source": [
        "name = input('username: ')\n",
        "password = input('choose a password: ')\n",
        "\n",
        "students.update({name:password})\n",
        "print(f'User {name} created successfully')"
      ]
    },
    {
      "cell_type": "code",
      "execution_count": 73,
      "metadata": {},
      "outputs": [
        {
          "data": {
            "text/plain": [
              "'1234'"
            ]
          },
          "execution_count": 73,
          "metadata": {},
          "output_type": "execute_result"
        }
      ],
      "source": [
        "students.pop('fola')"
      ]
    },
    {
      "cell_type": "code",
      "execution_count": 76,
      "metadata": {},
      "outputs": [],
      "source": [
        "# edit a value\n",
        "nigeria['osun'] = 'oshogbo'"
      ]
    },
    {
      "cell_type": "code",
      "execution_count": 77,
      "metadata": {},
      "outputs": [
        {
          "data": {
            "text/plain": [
              "{'osun': 'oshogbo',\n",
              " 'oyo': 'ibadan',\n",
              " 'kwara': 'ilorin',\n",
              " 'kogi': 'lokoja',\n",
              " 'rivers': 'port-harcourt',\n",
              " 'ogun': 'abeokuta'}"
            ]
          },
          "execution_count": 77,
          "metadata": {},
          "output_type": "execute_result"
        }
      ],
      "source": [
        "nigeria"
      ]
    },
    {
      "cell_type": "markdown",
      "metadata": {
        "id": "--o44JxZceec"
      },
      "source": [
        "### 11. Summary\n",
        "\n",
        "| Feature         | List                    | Tuple                   | Set                      | Dictionary                   |\n",
        "|-----------------|-------------------------|--------------------------|---------------------------|-------------------------------|\n",
        "| Ordered         | No                     | No                     | Yes                        | No (insertion order preserved) |\n",
        "| Mutable         | Yes                     | No                      | Yes                       | Yes                            |\n",
        "| Duplicates      | Allowed                 | Allowed                 | Not allowed               | Keys: Not allowed, Values: Allowed |\n",
        "| Indexable       | Yes                     | Yes                     | No                        | Keys used instead of index    |\n",
        "| Syntax          | `[1, 2, 3]`             | `(1, 2, 3)`              | `{1, 2, 3}`               | `{\"a\": 1, \"b\": 2}`            |\n",
        "| Use Case        | General-purpose sequence| Fixed collections        | Unique elements           | Key-value mappings            |"
      ]
    },
    {
      "cell_type": "markdown",
      "metadata": {
        "id": "hM_Gu3C6ceR3"
      },
      "source": [
        "# EXERCISES\n",
        "\n",
        "\n",
        "\n",
        "1. Create a list of numbers divisible by 8 between 3 and 50.\n",
        "2. Given two sets:\n",
        "a = {1, 2, 3, 4}\n",
        "b = {3, 4, 5, 6}\n",
        "Find the union, intersection, and difference (a - b)\n",
        "\n",
        "3.  Create a dictionary with keys \"name\", \"age\", and \"course\". Then update the \"course\" value and add a new key \"grade\".\n"
      ]
    },
    {
      "cell_type": "code",
      "execution_count": null,
      "metadata": {
        "id": "KXvEtSq1n-uu"
      },
      "outputs": [],
      "source": []
    }
  ],
  "metadata": {
    "colab": {
      "authorship_tag": "ABX9TyMt8/kP1+mYhxvskf/aAmsa",
      "include_colab_link": true,
      "provenance": []
    },
    "kernelspec": {
      "display_name": "Python 3",
      "name": "python3"
    },
    "language_info": {
      "codemirror_mode": {
        "name": "ipython",
        "version": 3
      },
      "file_extension": ".py",
      "mimetype": "text/x-python",
      "name": "python",
      "nbconvert_exporter": "python",
      "pygments_lexer": "ipython3",
      "version": "3.12.0"
    }
  },
  "nbformat": 4,
  "nbformat_minor": 0
}
