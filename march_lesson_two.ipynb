{
  "nbformat": 4,
  "nbformat_minor": 0,
  "metadata": {
    "colab": {
      "provenance": [],
      "authorship_tag": "ABX9TyMt8/kP1+mYhxvskf/aAmsa",
      "include_colab_link": true
    },
    "kernelspec": {
      "name": "python3",
      "display_name": "Python 3"
    },
    "language_info": {
      "name": "python"
    }
  },
  "cells": [
    {
      "cell_type": "markdown",
      "metadata": {
        "id": "view-in-github",
        "colab_type": "text"
      },
      "source": [
        "<a href=\"https://colab.research.google.com/github/Muyiiwaa/python_and_sql_4_data-analysis/blob/master/march_lesson_two.ipynb\" target=\"_parent\"><img src=\"https://colab.research.google.com/assets/colab-badge.svg\" alt=\"Open In Colab\"/></a>"
      ]
    },
    {
      "cell_type": "markdown",
      "source": [
        "# Lesson 2: Python Basics II – Basic Data Structures\n",
        "\n",
        "\n",
        "---\n",
        "\n"
      ],
      "metadata": {
        "id": "qa3HzRbza2iG"
      }
    },
    {
      "cell_type": "markdown",
      "source": [
        "#### Python has four primary built-in collection types:\n",
        "- List: ordered, mutable, allows duplicates\n",
        "- Tuple: ordered, immutable, allows duplicates\n",
        "- Set: unordered, mutable, no duplicates\n",
        "- Dictionary: key-value pairs, unordered (Python 3.6+ maintains insertion order)\n",
        "\n",
        "---\n",
        "\n",
        "\n",
        "\n"
      ],
      "metadata": {
        "id": "kqr2T-0NbD7k"
      }
    },
    {
      "cell_type": "markdown",
      "source": [
        "### 2. List Creation and INdexing"
      ],
      "metadata": {
        "id": "MoPyGuYjbn7U"
      }
    },
    {
      "cell_type": "code",
      "execution_count": 13,
      "metadata": {
        "id": "5T1Kn2tUXv_v"
      },
      "outputs": [],
      "source": [
        "# create and index a list"
      ]
    },
    {
      "cell_type": "markdown",
      "source": [
        "### 3. Lists – Modification and Methods"
      ],
      "metadata": {
        "id": "2c66sYa-bxWl"
      }
    },
    {
      "cell_type": "code",
      "source": [
        "# some list methods"
      ],
      "metadata": {
        "id": "R3i-WETReWUt"
      },
      "execution_count": 14,
      "outputs": []
    },
    {
      "cell_type": "markdown",
      "source": [
        "### 4. List Slicing"
      ],
      "metadata": {
        "id": "GP6wCi6hb1Ng"
      }
    },
    {
      "cell_type": "code",
      "source": [
        "#"
      ],
      "metadata": {
        "id": "QDJVo0jlec1H"
      },
      "execution_count": 15,
      "outputs": []
    },
    {
      "cell_type": "markdown",
      "source": [
        "### 5.Tuples"
      ],
      "metadata": {
        "id": "Dch8t5BUb8YM"
      }
    },
    {
      "cell_type": "code",
      "source": [
        "# Create a tuple"
      ],
      "metadata": {
        "id": "HF0W-CVsega-"
      },
      "execution_count": 16,
      "outputs": []
    },
    {
      "cell_type": "markdown",
      "source": [
        "### 7. Tuple Unpacking"
      ],
      "metadata": {
        "id": "-DGhIJIKcFvv"
      }
    },
    {
      "cell_type": "code",
      "source": [
        "# unpack a tuple"
      ],
      "metadata": {
        "id": "Td-0i4lNe3Y_"
      },
      "execution_count": 17,
      "outputs": []
    },
    {
      "cell_type": "markdown",
      "source": [
        "### 8.Sets – Unordered Unique Collections"
      ],
      "metadata": {
        "id": "Ns0nr0ghcFif"
      }
    },
    {
      "cell_type": "code",
      "source": [
        "# create a set"
      ],
      "metadata": {
        "id": "sy02DYSxe_Nc"
      },
      "execution_count": 18,
      "outputs": []
    },
    {
      "cell_type": "markdown",
      "source": [
        "### 9. Set Operations\n"
      ],
      "metadata": {
        "id": "VO7Ntco9cFXe"
      }
    },
    {
      "cell_type": "code",
      "source": [
        "# some set operation\n"
      ],
      "metadata": {
        "id": "lgZUOQxrfKWD"
      },
      "execution_count": 28,
      "outputs": []
    },
    {
      "cell_type": "markdown",
      "source": [
        "### 10. Dictionaries – Key-Value Pairs"
      ],
      "metadata": {
        "id": "-4Ho86becetu"
      }
    },
    {
      "cell_type": "code",
      "source": [
        "# create a dictionary"
      ],
      "metadata": {
        "id": "-0sEfjfsfQ5Y"
      },
      "execution_count": 29,
      "outputs": []
    },
    {
      "cell_type": "markdown",
      "source": [
        "### 11. Dictionary Methods"
      ],
      "metadata": {
        "id": "BWsR_TencFKB"
      }
    },
    {
      "cell_type": "code",
      "source": [
        "### some dictionary  method"
      ],
      "metadata": {
        "id": "bbVWKLV9fYl-"
      },
      "execution_count": 31,
      "outputs": []
    },
    {
      "cell_type": "markdown",
      "source": [
        "### 11. Summary\n",
        "\n",
        "| Feature         | List                    | Tuple                   | Set                      | Dictionary                   |\n",
        "|-----------------|-------------------------|--------------------------|---------------------------|-------------------------------|\n",
        "| Ordered         | Yes                     | Yes                     | No                        | No (insertion order preserved) |\n",
        "| Mutable         | Yes                     | No                      | Yes                       | Yes                            |\n",
        "| Duplicates      | Allowed                 | Allowed                 | Not allowed               | Keys: Not allowed, Values: Allowed |\n",
        "| Indexable       | Yes                     | Yes                     | No                        | Keys used instead of index    |\n",
        "| Syntax          | `[1, 2, 3]`             | `(1, 2, 3)`              | `{1, 2, 3}`               | `{\"a\": 1, \"b\": 2}`            |\n",
        "| Use Case        | General-purpose sequence| Fixed collections        | Unique elements           | Key-value mappings            |"
      ],
      "metadata": {
        "id": "--o44JxZceec"
      }
    },
    {
      "cell_type": "markdown",
      "source": [
        "# EXERCISES\n",
        "\n",
        "\n",
        "\n",
        "1. Create a list of numbers divisible by 8 between 3 and 50.\n",
        "2. Given two sets:\n",
        "a = {1, 2, 3, 4}\n",
        "b = {3, 4, 5, 6}\n",
        "Find the union, intersection, and difference (a - b)\n",
        "\n",
        "3.  Create a dictionary with keys \"name\", \"age\", and \"course\". Then update the \"course\" value and add a new key \"grade\".\n"
      ],
      "metadata": {
        "id": "hM_Gu3C6ceR3"
      }
    },
    {
      "cell_type": "code",
      "source": [],
      "metadata": {
        "id": "KXvEtSq1n-uu"
      },
      "execution_count": null,
      "outputs": []
    }
  ]
}