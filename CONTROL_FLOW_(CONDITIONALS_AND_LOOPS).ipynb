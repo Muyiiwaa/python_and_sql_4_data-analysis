{
  "nbformat": 4,
  "nbformat_minor": 0,
  "metadata": {
    "colab": {
      "provenance": [],
      "authorship_tag": "ABX9TyPKjszaFRcObtpgo6v2itWF",
      "include_colab_link": true
    },
    "kernelspec": {
      "name": "python3",
      "display_name": "Python 3"
    },
    "language_info": {
      "name": "python"
    }
  },
  "cells": [
    {
      "cell_type": "markdown",
      "metadata": {
        "id": "view-in-github",
        "colab_type": "text"
      },
      "source": [
        "<a href=\"https://colab.research.google.com/github/Muyiiwaa/python_and_sql_4_data-analysis/blob/master/CONTROL_FLOW_(CONDITIONALS_AND_LOOPS).ipynb\" target=\"_parent\"><img src=\"https://colab.research.google.com/assets/colab-badge.svg\" alt=\"Open In Colab\"/></a>"
      ]
    },
    {
      "cell_type": "markdown",
      "source": [
        "## CONDITIONALS"
      ],
      "metadata": {
        "id": "DSU_sdRL3O9N"
      }
    },
    {
      "cell_type": "code",
      "execution_count": 2,
      "metadata": {
        "colab": {
          "base_uri": "https://localhost:8080/"
        },
        "id": "MR1b2LAw13WZ",
        "outputId": "28e2dfd1-a318-4025-f00c-a71f46ed4039"
      },
      "outputs": [
        {
          "output_type": "stream",
          "name": "stdout",
          "text": [
            "Enter your number: 18\n",
            "18 is even\n"
          ]
        }
      ],
      "source": [
        "# write a program that checks if a number is odd or even\n",
        "# binary and mutually exclusive condition.\n",
        "\n",
        "number = int(input('Enter your number: '))\n",
        "if number % 2 != 0:\n",
        "  print(f'{number} is odd')\n",
        "else:\n",
        "  print(f'{number} is even')"
      ]
    },
    {
      "cell_type": "code",
      "source": [
        "# write a program that checks if someone is a child, teen, adult or old.\n",
        "# multiple mutually exclusive condition\n",
        "\n",
        "age = int(input('Enter your age: '))\n",
        "if age < 13:\n",
        "  print('Child')\n",
        "elif age < 20:\n",
        "  print('Teen')\n",
        "elif age < 50:\n",
        "  print('Adult')\n",
        "else:\n",
        "  print('Old')"
      ],
      "metadata": {
        "colab": {
          "base_uri": "https://localhost:8080/"
        },
        "id": "uncbslbu4i9q",
        "outputId": "d392f1e8-b33a-43e5-936a-d92adf8d1bea"
      },
      "execution_count": 4,
      "outputs": [
        {
          "output_type": "stream",
          "name": "stdout",
          "text": [
            "Enter your age: 19\n",
            "Teen\n"
          ]
        }
      ]
    },
    {
      "cell_type": "code",
      "source": [
        "# write a program that checks if a number is even, odd or a multiple 3\n",
        "\n",
        "number = int(input('Enter the number: '))\n",
        "if number % 2 == 0:\n",
        "  print(f'{number} is even')\n",
        "if number % 2 == 1:\n",
        "  print(f'{number} is odd')\n",
        "if number % 3 == 0:\n",
        "  print(f'{number} is a multiple of 3')"
      ],
      "metadata": {
        "colab": {
          "base_uri": "https://localhost:8080/"
        },
        "id": "TgJPHq2E6BKa",
        "outputId": "afbc21d4-6460-48a4-8f75-d3f2161ae10c"
      },
      "execution_count": 6,
      "outputs": [
        {
          "output_type": "stream",
          "name": "stdout",
          "text": [
            "Enter the number: 6\n",
            "6 is even\n",
            "6 is a multiple of 3\n"
          ]
        }
      ]
    },
    {
      "cell_type": "markdown",
      "source": [
        "## NESTED IFS"
      ],
      "metadata": {
        "id": "uPvZRygZ8Z4M"
      }
    },
    {
      "cell_type": "code",
      "source": [
        "# write a program that performs student student login.\n",
        "\n",
        "fake_db = {'kemi':'1234'}"
      ],
      "metadata": {
        "id": "rtjRK2vZ88gv"
      },
      "execution_count": 16,
      "outputs": []
    },
    {
      "cell_type": "code",
      "source": [
        "username = input('Enter your username')\n",
        "\n",
        "if username in fake_db.keys():\n",
        "  password = input(f'Welcome {username} enter your password!')\n",
        "  if password == fake_db[username]:\n",
        "    print('Access granted!')\n",
        "  else:\n",
        "    print('Incorrect Password')\n",
        "else:\n",
        "  print(f'user {username} not found!')"
      ],
      "metadata": {
        "colab": {
          "base_uri": "https://localhost:8080/"
        },
        "id": "n-ydCGW19I0W",
        "outputId": "87678cac-90c4-49cf-d11e-4a7009271cf6"
      },
      "execution_count": 18,
      "outputs": [
        {
          "output_type": "stream",
          "name": "stdout",
          "text": [
            "Enter your usernamekemi\n",
            "Welcome kemi enter your password!1234\n",
            "Access granted!\n"
          ]
        }
      ]
    },
    {
      "cell_type": "markdown",
      "source": [
        "## FOR LOOPS"
      ],
      "metadata": {
        "id": "W7U-3t1M-6n1"
      }
    },
    {
      "cell_type": "code",
      "source": [
        "# write a program that prints hello world five times\n",
        "\n",
        "for i in range(5):\n",
        "  print(f'Hello world number {i}')"
      ],
      "metadata": {
        "colab": {
          "base_uri": "https://localhost:8080/"
        },
        "id": "Snvyp1Ek-cXF",
        "outputId": "83acfa7f-14cf-4778-fe15-c1e3def6028f"
      },
      "execution_count": 23,
      "outputs": [
        {
          "output_type": "stream",
          "name": "stdout",
          "text": [
            "Hello world number 0\n",
            "Hello world number 1\n",
            "Hello world number 2\n",
            "Hello world number 3\n",
            "Hello world number 4\n"
          ]
        }
      ]
    },
    {
      "cell_type": "code",
      "source": [
        "# write a program that returns all the even and odd numbers between 1 and 30\n",
        "\n",
        "odd_bucket = []\n",
        "even_bucket = []\n",
        "\n",
        "for number in range(1, 31):\n",
        "  if number % 2 == 0:\n",
        "    even_bucket.append(number)\n",
        "  else:\n",
        "    odd_bucket.append(number)\n",
        "\n",
        "print(odd_bucket)\n",
        "print(even_bucket)"
      ],
      "metadata": {
        "colab": {
          "base_uri": "https://localhost:8080/"
        },
        "id": "au9crdW4_0la",
        "outputId": "1c71e206-2a4f-47f9-be21-46884ddf9d12"
      },
      "execution_count": 24,
      "outputs": [
        {
          "output_type": "stream",
          "name": "stdout",
          "text": [
            "[1, 3, 5, 7, 9, 11, 13, 15, 17, 19, 21, 23, 25, 27, 29]\n",
            "[2, 4, 6, 8, 10, 12, 14, 16, 18, 20, 22, 24, 26, 28, 30]\n"
          ]
        }
      ]
    },
    {
      "cell_type": "code",
      "source": [
        "# looping over a dictionary\n",
        "names = {'sola':'wole','steph':'curry','wale':'ojo','Ahmed':'musa'}\n",
        "\n",
        "for firstname, lastname in names.items():\n",
        "  print(f'Hi {firstname} {lastname}')"
      ],
      "metadata": {
        "colab": {
          "base_uri": "https://localhost:8080/"
        },
        "id": "oRtjEbDXBGzO",
        "outputId": "35665de8-76af-4137-f00e-c95c280c066b"
      },
      "execution_count": 33,
      "outputs": [
        {
          "output_type": "stream",
          "name": "stdout",
          "text": [
            "Hi sola wole\n",
            "Hi steph curry\n",
            "Hi wale ojo\n",
            "Hi Ahmed musa\n"
          ]
        }
      ]
    },
    {
      "cell_type": "code",
      "source": [
        "names.items()"
      ],
      "metadata": {
        "colab": {
          "base_uri": "https://localhost:8080/"
        },
        "id": "KtDJVJdyCw_H",
        "outputId": "e5743607-1fcd-4d05-f641-0fe92d60ad2f"
      },
      "execution_count": 35,
      "outputs": [
        {
          "output_type": "execute_result",
          "data": {
            "text/plain": [
              "dict_items([('sola', 'wole'), ('steph', 'curry'), ('wale', 'ojo'), ('Ahmed', 'musa')])"
            ]
          },
          "metadata": {},
          "execution_count": 35
        }
      ]
    },
    {
      "cell_type": "markdown",
      "source": [
        "## Nested For Loops"
      ],
      "metadata": {
        "id": "efE-gHfuFLCu"
      }
    },
    {
      "cell_type": "code",
      "source": [
        "# zipping with for loops\n",
        "even = [1,2,3,4,5]\n",
        "vowels = ['a','e','i','o','u']\n",
        "\n",
        "for number, letter in zip(even, vowels):\n",
        "  print(f'{number}, {letter}')"
      ],
      "metadata": {
        "colab": {
          "base_uri": "https://localhost:8080/"
        },
        "id": "D-u0z1p_Euro",
        "outputId": "c08e2f8e-7326-47b7-c637-b0bfcd802440"
      },
      "execution_count": 36,
      "outputs": [
        {
          "output_type": "stream",
          "name": "stdout",
          "text": [
            "1, a\n",
            "2, e\n",
            "3, i\n",
            "4, o\n",
            "5, u\n"
          ]
        }
      ]
    },
    {
      "cell_type": "code",
      "source": [
        "for number in even:\n",
        "  for letter in vowels:\n",
        "    print(f'{number}, {letter}')"
      ],
      "metadata": {
        "colab": {
          "base_uri": "https://localhost:8080/"
        },
        "collapsed": true,
        "id": "zxAVW2LlF0jm",
        "outputId": "217e34f1-23b4-4642-bad7-b1047bb709c6"
      },
      "execution_count": 37,
      "outputs": [
        {
          "output_type": "stream",
          "name": "stdout",
          "text": [
            "1, a\n",
            "1, e\n",
            "1, i\n",
            "1, o\n",
            "1, u\n",
            "2, a\n",
            "2, e\n",
            "2, i\n",
            "2, o\n",
            "2, u\n",
            "3, a\n",
            "3, e\n",
            "3, i\n",
            "3, o\n",
            "3, u\n",
            "4, a\n",
            "4, e\n",
            "4, i\n",
            "4, o\n",
            "4, u\n",
            "5, a\n",
            "5, e\n",
            "5, i\n",
            "5, o\n",
            "5, u\n"
          ]
        }
      ]
    },
    {
      "cell_type": "markdown",
      "source": [
        "### While Loop\n",
        "\n"
      ],
      "metadata": {
        "id": "FzzKaAMHGuC1"
      }
    },
    {
      "cell_type": "markdown",
      "source": [
        "## EXERCISE\n",
        "\n",
        "- write a program that checks if a number is a multiple of 3\n",
        "- write a program that checks if a student passed or failed a course pass mark is 50.\n",
        "- write a program that returns all multiple of 7 between 1 and 55."
      ],
      "metadata": {
        "id": "iW0HLbwRHMww"
      }
    },
    {
      "cell_type": "code",
      "source": [],
      "metadata": {
        "id": "kvLV1-koHymQ"
      },
      "execution_count": null,
      "outputs": []
    }
  ]
}