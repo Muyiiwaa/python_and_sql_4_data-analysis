{
  "nbformat": 4,
  "nbformat_minor": 0,
  "metadata": {
    "colab": {
      "provenance": []
    },
    "kernelspec": {
      "name": "python3",
      "display_name": "Python 3"
    },
    "language_info": {
      "name": "python"
    }
  },
  "cells": [
    {
      "cell_type": "markdown",
      "source": [
        "### 1. Variables and Data Types\n",
        "\n",
        "A **variable** in Python is a name that refers to a value stored in memory. You create a variable by assigning a value using the `=` operator.\n",
        "\n",
        "Python uses **dynamic typing**, which means you do not need to declare the type of a variable before using it. The type is determined automatically at runtime.\n",
        "\n",
        "Common Python data types include:\n",
        "- **int** → integer numbers (e.g., 5, -3)\n",
        "- **float** → decimal numbers (e.g., 3.14)\n",
        "- **str** → text data (e.g., \"Hello\")\n",
        "- **bool** → logical values (`True` or `False`)\n",
        "\n",
        "You can check a variable’s type using the `type()` function.\n"
      ],
      "metadata": {
        "id": "rx9eEw10c1iG"
      }
    },
    {
      "cell_type": "code",
      "source": [
        "# Task: Create four variables:\n",
        "# 1. A string variable for your name\n",
        "# 2. An integer variable for your age\n",
        "# 3. A float variable for your height in meters\n",
        "# 4. A boolean variable indicating if you are a student\n",
        "# Print each variable and its type."
      ],
      "metadata": {
        "id": "vOyLW7uJc72Z"
      },
      "execution_count": null,
      "outputs": []
    },
    {
      "cell_type": "code",
      "source": [],
      "metadata": {
        "id": "8I0G1TrOc7mX"
      },
      "execution_count": null,
      "outputs": []
    },
    {
      "cell_type": "markdown",
      "source": [
        "### 2. Arithmetic Operations\n",
        "\n",
        "Python supports standard arithmetic operations on numbers:\n",
        "\n",
        "| Operator | Description | Example |\n",
        "|-----------|--------------|----------|\n",
        "| + | Addition | `a + b` |\n",
        "| - | Subtraction | `a - b` |\n",
        "| * | Multiplication | `a * b` |\n",
        "| / | Division | `a / b` |\n",
        "| // | Floor division (integer division) | `a // b` |\n",
        "| % | Modulus (remainder) | `a % b` |\n",
        "| ** | Exponentiation | `a ** b` |\n",
        "\n",
        "Operations follow standard mathematical precedence rules.\n",
        "\n",
        "You can store results of operations in new variables for reuse.\n"
      ],
      "metadata": {
        "id": "CT1a3Niyc9Ho"
      }
    },
    {
      "cell_type": "code",
      "source": [
        "# Task:\n",
        "# 1. Create two variables a and b with numeric values.\n",
        "# 2. Perform all arithmetic operations listed in the table above.\n",
        "# 3. Print the results clearly.\n",
        "#\n",
        "# Bonus: Calculate and print the area of a circle with radius r = 5\n",
        "# (use π = 3.1416 and formula area = π * r ** 2)."
      ],
      "metadata": {
        "id": "Mr7JDhPrdkEN"
      },
      "execution_count": 1,
      "outputs": []
    },
    {
      "cell_type": "code",
      "source": [],
      "metadata": {
        "id": "xmfcZIpWdlXZ"
      },
      "execution_count": null,
      "outputs": []
    },
    {
      "cell_type": "code",
      "source": [],
      "metadata": {
        "id": "tvFnRhbSdltv"
      },
      "execution_count": null,
      "outputs": []
    },
    {
      "cell_type": "markdown",
      "source": [
        "### 3. Comparison and Logical Operations\n",
        "\n",
        "**Comparison operators** compare two values and return a boolean result (`True` or `False`):\n",
        "\n",
        "| Operator | Meaning | Example |\n",
        "|-----------|----------|----------|\n",
        "| == | Equal to | `x == y` |\n",
        "| != | Not equal to | `x != y` |\n",
        "| > | Greater than | `x > y` |\n",
        "| < | Less than | `x < y` |\n",
        "| >= | Greater than or equal to | `x >= y` |\n",
        "| <= | Less than or equal to | `x <= y` |\n",
        "\n",
        "**Logical operators** combine multiple boolean expressions:\n",
        "\n",
        "| Operator | Meaning | Example |\n",
        "|-----------|----------|----------|\n",
        "| and | True if both are True | `x > 5 and x < 10` |\n",
        "| or | True if at least one is True | `x > 5 or x < 10` |\n",
        "| not | Negates a boolean value | `not x > 5` |\n",
        "\n",
        "Logical operators are essential for writing conditional expressions and filters.\n"
      ],
      "metadata": {
        "id": "dwxxp3XDdmCA"
      }
    },
    {
      "cell_type": "code",
      "source": [
        "# Task:\n",
        "# 1. Create two variables x and y with numeric values.\n",
        "# 2. Compare them using all comparison operators.\n",
        "# 3. Create two boolean variables a and b, and test combinations using\n",
        "#    'and', 'or', and 'not'.\n",
        "#\n",
        "# Bonus: Write an expression that checks if a number n is between 10 and 50 (inclusive).\n"
      ],
      "metadata": {
        "id": "Hh-OdxW2dwP9"
      },
      "execution_count": 2,
      "outputs": []
    },
    {
      "cell_type": "code",
      "source": [],
      "metadata": {
        "id": "PLZOBpRzdxlm"
      },
      "execution_count": null,
      "outputs": []
    },
    {
      "cell_type": "code",
      "source": [],
      "metadata": {
        "id": "6be__C7Ddx5p"
      },
      "execution_count": null,
      "outputs": []
    },
    {
      "cell_type": "markdown",
      "source": [
        "### 4. Conditional Statements\n",
        "\n",
        "**Conditional statements** allow a program to make decisions based on certain conditions.\n",
        "\n",
        "Python uses the keywords `if`, `elif`, and `else`:\n",
        "\n",
        "```python\n",
        "if condition:\n",
        "    # code block\n",
        "elif another_condition:\n",
        "    # code block\n",
        "else:\n",
        "    # code block\n",
        "```\n",
        "\n",
        "- Conditions must evaluate to `True` or `False`.\n",
        "- Indentation (usually 4 spaces) defines the scope of each block.\n",
        "- Only one block runs per evaluation sequence.\n",
        "\n",
        "Conditionals are fundamental for controlling program flow.\n"
      ],
      "metadata": {
        "id": "lV-sF8gvdyas"
      }
    },
    {
      "cell_type": "code",
      "source": [
        "# Task:\n",
        "# 1. Create a variable 'score' with a numeric value.\n",
        "# 2. Use if-elif-else to print:\n",
        "#    A if score >= 90\n",
        "#    B if score between 75–89\n",
        "#    C if score between 60–74\n",
        "#    F if below 60\n",
        "#\n",
        "# Bonus: Write a program that checks if a number is positive, negative, or zero.\n"
      ],
      "metadata": {
        "id": "Y3dBlihAd5gu"
      },
      "execution_count": 3,
      "outputs": []
    },
    {
      "cell_type": "code",
      "source": [],
      "metadata": {
        "id": "KI6285_Ld-ng"
      },
      "execution_count": null,
      "outputs": []
    },
    {
      "cell_type": "code",
      "source": [],
      "metadata": {
        "id": "-lKEitWceBZ7"
      },
      "execution_count": null,
      "outputs": []
    },
    {
      "cell_type": "code",
      "source": [],
      "metadata": {
        "id": "HjWJCaGTeB2s"
      },
      "execution_count": null,
      "outputs": []
    },
    {
      "cell_type": "markdown",
      "source": [
        "### 5.1 Lists\n",
        "\n",
        "A **list** is an ordered, mutable collection of elements. Lists can contain any data type, and elements can be accessed by index (starting from 0).\n",
        "\n",
        "Example structure:\n",
        "```python\n",
        "numbers = [1, 2, 3, 4]\n",
        "```\n",
        "\n",
        "Key operations:\n",
        "- Access: `numbers[0]`, `numbers[-1]`\n",
        "- Add: `numbers.append(5)`\n",
        "- Remove: `numbers.remove(2)`\n",
        "- Slice: `numbers[1:3]`\n"
      ],
      "metadata": {
        "id": "MKNQk9F2eCP_"
      }
    },
    {
      "cell_type": "code",
      "source": [
        "# Task:\n",
        "# 1. Create a list of five fruits.\n",
        "# 2. Print the first and last items.\n",
        "# 3. Add a new fruit and remove one existing fruit.\n",
        "# 4. Print the updated list.\n",
        "#\n",
        "# Bonus: Create a list of five numbers and print the largest and smallest.\n"
      ],
      "metadata": {
        "id": "PfhVo55MeDIZ"
      },
      "execution_count": 4,
      "outputs": []
    },
    {
      "cell_type": "code",
      "source": [],
      "metadata": {
        "id": "7cmNSjM5eHO4"
      },
      "execution_count": null,
      "outputs": []
    },
    {
      "cell_type": "code",
      "source": [],
      "metadata": {
        "id": "CR94Yi1leJvt"
      },
      "execution_count": null,
      "outputs": []
    },
    {
      "cell_type": "code",
      "source": [],
      "metadata": {
        "id": "mXpLCvdceKXm"
      },
      "execution_count": null,
      "outputs": []
    },
    {
      "cell_type": "markdown",
      "source": [
        "### 5.2 Tuples\n",
        "\n",
        "A **tuple** is similar to a list but **immutable**, meaning its values cannot be changed after creation.\n",
        "\n",
        "Example:\n",
        "```python\n",
        "coordinates = (10.5, 20.7)\n",
        "```\n",
        "\n",
        "Tuples are useful for fixed collections of items, such as coordinates or RGB color values.\n"
      ],
      "metadata": {
        "id": "MzLQbqhMeK57"
      }
    },
    {
      "cell_type": "code",
      "source": [
        "# Task:\n",
        "# 1. Create a tuple named coordinates with two numeric values.\n",
        "# 2. Access and print each element by index.\n",
        "# 3. Try modifying one element to observe immutability behavior.\n"
      ],
      "metadata": {
        "id": "IJYk750yeLfw"
      },
      "execution_count": 5,
      "outputs": []
    },
    {
      "cell_type": "code",
      "source": [],
      "metadata": {
        "id": "vc4nreTueOUY"
      },
      "execution_count": null,
      "outputs": []
    },
    {
      "cell_type": "code",
      "source": [],
      "metadata": {
        "id": "wAdf2b66ePLb"
      },
      "execution_count": null,
      "outputs": []
    },
    {
      "cell_type": "code",
      "source": [],
      "metadata": {
        "id": "U8qE_zzHePfe"
      },
      "execution_count": null,
      "outputs": []
    },
    {
      "cell_type": "markdown",
      "source": [
        "### 5.3 Dictionaries\n",
        "\n",
        "A **dictionary** is an unordered collection of key–value pairs.  \n",
        "Keys must be unique and immutable (usually strings or numbers).\n",
        "\n",
        "Example:\n",
        "```python\n",
        "student = {\n",
        "    \"name\": \"Alice\",\n",
        "    \"age\": 25\n",
        "}\n",
        "```\n",
        "\n",
        "Common operations:\n",
        "- Access: `student[\"name\"]`\n",
        "- Add or update: `student[\"grade\"] = \"A\"`\n",
        "- Loop:  \n",
        "  ```python\n",
        "  for key, value in student.items():\n",
        "      print(key, value)\n",
        "  ```\n"
      ],
      "metadata": {
        "id": "E5vK9JGgeP3G"
      }
    },
    {
      "cell_type": "code",
      "source": [
        "# Task:\n",
        "# 1. Create a dictionary named 'student' with keys: name, age, major.\n",
        "# 2. Print each key and value.\n",
        "# 3. Add a new key 'grade' and update the age.\n",
        "# 4. Print the updated dictionary.\n",
        "#\n",
        "# Bonus: Create a dictionary for a product with name, price, and quantity,\n",
        "# then calculate total value (price * quantity).\n"
      ],
      "metadata": {
        "id": "6FjCwCKGeRhr"
      },
      "execution_count": 6,
      "outputs": []
    },
    {
      "cell_type": "code",
      "source": [],
      "metadata": {
        "id": "nTWVgk18eYNh"
      },
      "execution_count": 10,
      "outputs": []
    },
    {
      "cell_type": "code",
      "source": [],
      "metadata": {
        "id": "f-S51VTHeYhq"
      },
      "execution_count": null,
      "outputs": []
    },
    {
      "cell_type": "markdown",
      "source": [
        "### Summary\n",
        "In this lesson, you learned:\n",
        "- How to define and use variables and data types.\n",
        "- How to perform arithmetic, comparison, and logical operations.\n",
        "- How to use conditionals for decision-making.\n",
        "- The basic Python data structures: lists, tuples, and dictionaries.\n",
        "\n",
        "Next Lesson → Introduction to NumPy and Pandas."
      ],
      "metadata": {
        "id": "6tlpBzUzeYz7"
      }
    },
    {
      "cell_type": "code",
      "source": [],
      "metadata": {
        "id": "k76sBm9NeZgM"
      },
      "execution_count": null,
      "outputs": []
    }
  ]
}