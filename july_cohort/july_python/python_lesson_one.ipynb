{
  "cells": [
    {
      "cell_type": "markdown",
      "metadata": {
        "id": "rx9eEw10c1iG"
      },
      "source": [
        "### 1. Variables and Data Types\n",
        "\n",
        "A **variable** in Python is a name that refers to a value stored in memory. You create a variable by assigning a value using the `=` operator.\n",
        "\n",
        "Python uses **dynamic typing**, which means you do not need to declare the type of a variable before using it. The type is determined automatically at runtime.\n",
        "\n",
        "Common Python data types include:\n",
        "- **int** → integer numbers (e.g., 5, -3)\n",
        "- **float** → decimal numbers (e.g., 3.14)\n",
        "- **str** → text data (e.g., \"Hello\")\n",
        "- **bool** → logical values (`True` or `False`)\n",
        "\n",
        "You can check a variable’s type using the `type()` function.\n"
      ]
    },
    {
      "cell_type": "code",
      "execution_count": 4,
      "metadata": {
        "id": "vOyLW7uJc72Z"
      },
      "outputs": [
        {
          "name": "stdout",
          "output_type": "stream",
          "text": [
            "wale john\n",
            "<class 'str'>\n",
            "22\n",
            "<class 'int'>\n",
            "189.5\n",
            "<class 'float'>\n",
            "True\n",
            "<class 'bool'>\n"
          ]
        }
      ],
      "source": [
        "# Task: Create four variables:\n",
        "# 1. A string variable for your name\n",
        "my_name = \"wale john\"\n",
        "\n",
        "# 2. An integer variable for your age\n",
        "my_age = 22\n",
        "\n",
        "# 3. A float variable for your height in meters\n",
        "my_height = 189.5\n",
        "\n",
        "# 4. A boolean variable indicating if you are a student\n",
        "is_student = True\n",
        "\n",
        "# Print each variable and its type.\n",
        "\n",
        "print(my_name)\n",
        "print(type(my_name))\n",
        "print(my_age)\n",
        "print(type(my_age))\n",
        "print(my_height)\n",
        "print(type(my_height))\n",
        "print(is_student)\n",
        "print(type(is_student))"
      ]
    },
    {
      "cell_type": "markdown",
      "metadata": {
        "id": "CT1a3Niyc9Ho"
      },
      "source": [
        "### 2. Arithmetic Operations\n",
        "\n",
        "Python supports standard arithmetic operations on numbers:\n",
        "\n",
        "| Operator | Description | Example |\n",
        "|-----------|--------------|----------|\n",
        "| + | Addition | `a + b` |\n",
        "| - | Subtraction | `a - b` |\n",
        "| * | Multiplication | `a * b` |\n",
        "| / | Float Division | `a / b` |\n",
        "| // | Floor division (integer division) | `a // b` |\n",
        "| % | Modulus (remainder) | `a % b` |\n",
        "| ** | Exponentiation | `a ** b` |\n",
        "\n",
        "Operations follow standard mathematical precedence rules.\n",
        "\n",
        "You can store results of operations in new variables for reuse.\n"
      ]
    },
    {
      "cell_type": "code",
      "execution_count": 6,
      "metadata": {
        "id": "Mr7JDhPrdkEN"
      },
      "outputs": [
        {
          "name": "stdout",
          "output_type": "stream",
          "text": [
            "6\n",
            "2\n",
            "8\n",
            "2.0\n",
            "2\n",
            "0\n",
            "16\n",
            "78.53999999999999\n"
          ]
        }
      ],
      "source": [
        "# Task:\n",
        "# 1. Create two variables a and b with numeric values.\n",
        "b = 2\n",
        "a = 4\n",
        "\n",
        "# 2. Perform all arithmetic operations listed in the table above.\n",
        "\n",
        "addition = a + b\n",
        "sub = a - b\n",
        "product = a * b\n",
        "float_division = a / b\n",
        "floor_division = a//b\n",
        "modulus = a % b\n",
        "power = a ** b\n",
        "\n",
        "# 3. Print the results clearly.\n",
        "print(addition)\n",
        "print(sub)\n",
        "print(product)\n",
        "print(float_division)\n",
        "print(floor_division)\n",
        "print(modulus)\n",
        "print(power)\n",
        "#\n",
        "# Bonus: Calculate and print the area of a circle with radius r = 5\n",
        "# (use pie = 3.1416 and formula area = pie * r ** 2).\n",
        "\n",
        "pie = 3.1416\n",
        "r = 5\n",
        "\n",
        "area = pie*(r**2)\n",
        "print(area)"
      ]
    },
    {
      "cell_type": "markdown",
      "metadata": {
        "id": "dwxxp3XDdmCA"
      },
      "source": [
        "### 3. Comparison and Logical Operations\n",
        "\n",
        "**Comparison operators** compare two values and return a boolean result (`True` or `False`):\n",
        "\n",
        "| Operator | Meaning | Example |\n",
        "|-----------|----------|----------|\n",
        "| == | Equal to | `x == y` |\n",
        "| != | Not equal to | `x != y` |\n",
        "| > | Greater than | `x > y` |\n",
        "| < | Less than | `x < y` |\n",
        "| >= | Greater than or equal to | `x >= y` |\n",
        "| <= | Less than or equal to | `x <= y` |\n",
        "\n",
        "**Logical operators** combine multiple boolean expressions:\n",
        "\n",
        "| Operator | Meaning | Example |\n",
        "|-----------|----------|----------|\n",
        "| and | True if both are True | `x > 5 and x < 10` |\n",
        "| or | True if at least one is True | `x > 5 or x < 10` |\n",
        "| not | Negates a boolean value | `not x > 5` |\n",
        "\n",
        "Logical operators are essential for writing conditional expressions and filters.\n"
      ]
    },
    {
      "cell_type": "code",
      "execution_count": 24,
      "metadata": {
        "id": "Hh-OdxW2dwP9"
      },
      "outputs": [
        {
          "name": "stdout",
          "output_type": "stream",
          "text": [
            "False\n",
            "False\n",
            "True\n"
          ]
        }
      ],
      "source": [
        "# Task:\n",
        "# 1. Create two variables x and y with numeric values.\n",
        "\n",
        "x = 6\n",
        "y = 36\n",
        "# 2. Compare them using all comparison operators.\n",
        "\n",
        "# print(x <= y)\n",
        "# 3. Create two boolean variables a and b, and test combinations using\n",
        "#    'and', 'or', and 'not'.\n",
        "\n",
        "is_single = False\n",
        "is_happy = False\n",
        "\n",
        "\n",
        "print(is_happy or is_single)\n",
        "\n",
        "print(is_happy and is_single)\n",
        "\n",
        "print(not is_single)\n",
        "#\n"
      ]
    },
    {
      "cell_type": "markdown",
      "metadata": {
        "id": "lV-sF8gvdyas"
      },
      "source": [
        "### 4. Conditional Statements\n",
        "\n",
        "**Conditional statements** allow a program to make decisions based on certain conditions.\n",
        "\n",
        "Python uses the keywords `if`, `elif`, and `else`:\n",
        "\n",
        "```python\n",
        "if condition:\n",
        "    # code block\n",
        "elif another_condition:\n",
        "    # code block\n",
        "else:\n",
        "    # code block\n",
        "```\n",
        "\n",
        "- Conditions must evaluate to `True` or `False`.\n",
        "- Indentation (usually 4 spaces) defines the scope of each block.\n",
        "- Only one block runs per evaluation sequence.\n",
        "\n",
        "Conditionals are fundamental for controlling program flow.\n"
      ]
    },
    {
      "cell_type": "code",
      "execution_count": 57,
      "metadata": {
        "id": "Y3dBlihAd5gu"
      },
      "outputs": [
        {
          "name": "stdout",
          "output_type": "stream",
          "text": [
            "positive\n",
            "True\n"
          ]
        }
      ],
      "source": [
        "# Task:\n",
        "# 1. Create a variable 'score' with a numeric value.\n",
        "# 2. Use if-elif-else to print:\n",
        "#    A if score >= 90\n",
        "#    B if score between 75–89\n",
        "#    C if score between 50–74\n",
        "#    D if below 50\n",
        "\n",
        "# create the score variable\n",
        "score = 106\n",
        "# set up the condition\n",
        "if score <= 50:\n",
        "    print('D')\n",
        "elif score <= 74:\n",
        "    print(\"C\")\n",
        "elif score <= 89:\n",
        "    print(\"B\")\n",
        "elif score <= 100:\n",
        "    print(\"A\")\n",
        "\n",
        "# Bonus: Write a program that checks if a number is positive, negative, or zero.\n",
        "number = 20\n",
        "if number < 0:\n",
        "    print(\"negative\")\n",
        "elif number == 0:\n",
        "    print(\"zero\")\n",
        "else:\n",
        "    print(\"positive\")\n",
        "\n",
        "\n",
        "# Bonus: Write an expression that checks if a number n is between 10 and 50 (inclusive).\n",
        "number = int(input(\"Enter the number you want to check: \"))\n",
        "if (number >= 10) and (number <= 50):\n",
        "    print(True)\n",
        "else:\n",
        "    print(False)"
      ]
    },
    {
      "cell_type": "code",
      "execution_count": 59,
      "metadata": {
        "id": "HjWJCaGTeB2s"
      },
      "outputs": [
        {
          "name": "stdout",
          "output_type": "stream",
          "text": [
            "90\n"
          ]
        }
      ],
      "source": [
        "# write a program that checks someone's age by from their year of birth\n",
        "\n",
        "year_of_birth = int(input(\"Enter your year of birth: \"))\n",
        "age = 2025 - year_of_birth\n",
        "print(age)"
      ]
    },
    {
      "cell_type": "markdown",
      "metadata": {},
      "source": [
        "### EXERCISE.\n",
        "\n",
        "1. write a program that converts naira to dollar.\n",
        "2. write a program that returns the number of weeks in any given length of days.\n",
        "3. write a program that takes jamb score and returns whether the user is admited to uni, poly or resit.\""
      ]
    },
    {
      "cell_type": "code",
      "execution_count": null,
      "metadata": {},
      "outputs": [],
      "source": []
    },
    {
      "cell_type": "markdown",
      "metadata": {
        "id": "MKNQk9F2eCP_"
      },
      "source": [
        "### 5.1 Lists\n",
        "\n",
        "A **list** is an ordered, mutable collection of elements. Lists can contain any data type, and elements can be accessed by index (starting from 0).\n",
        "\n",
        "Example structure:\n",
        "```python\n",
        "numbers = [1, 2, 3, 4]\n",
        "```\n",
        "\n",
        "Key operations:\n",
        "- Access: `numbers[0]`, `numbers[-1]`\n",
        "- Add: `numbers.append(5)`\n",
        "- Remove: `numbers.remove(2)`\n",
        "- Slice: `numbers[1:3]`\n"
      ]
    },
    {
      "cell_type": "code",
      "execution_count": 4,
      "metadata": {},
      "outputs": [
        {
          "name": "stdout",
          "output_type": "stream",
          "text": [
            "[1, 2, 3, 4, 6, 9, 2]\n",
            "<class 'list'>\n"
          ]
        }
      ],
      "source": [
        "numbers = [1,2,3,4,6,9,2]\n",
        "print(numbers)\n",
        "print(type(numbers))"
      ]
    },
    {
      "cell_type": "code",
      "execution_count": 25,
      "metadata": {
        "id": "PfhVo55MeDIZ"
      },
      "outputs": [
        {
          "name": "stdout",
          "output_type": "stream",
          "text": [
            "['orange', 'mango', 'apple', 'watermelon', 'kiwi']\n",
            "orange\n",
            "orange\n",
            "kiwi\n",
            "kiwi\n",
            "['orange', 'mango']\n",
            "['mango', 'apple', 'watermelon']\n",
            "['apple', 'watermelon', 'kiwi']\n",
            "ekiti\n",
            "wale\n"
          ]
        }
      ],
      "source": [
        "# Task:\n",
        "# 1. Create a list of five fruits.\n",
        "\n",
        "fruits = ['orange','mango','apple','watermelon','kiwi']\n",
        "print(fruits)\n",
        "\n",
        "\n",
        "# 2. Print the first and last items. (indexing)\n",
        "print(fruits[0]) # forward indexing for orange\n",
        "print(fruits[-5]) # backward indexing for orange\n",
        "\n",
        "print(fruits[4]) # forward indexing for kiwi\n",
        "print(fruits[-1]) # backward indexing for kiwi\n",
        "\n",
        "# SLICING\n",
        "# print out a couple of different slices for fruits list\n",
        "print(fruits[:2]) #prints orange mango\n",
        "print(fruits[1:4])\n",
        "print(fruits[2:])\n",
        "\n",
        "# multiple indexing\n",
        "\n",
        "students = [\n",
        "    ['ade','lagos',75],\n",
        "    ['wale','oyo',22],\n",
        "    ['joy','ekiti', 15]\n",
        "]\n",
        "\n",
        "print(students[2][1])\n",
        "print(students[1][0])\n",
        "\n"
      ]
    },
    {
      "cell_type": "code",
      "execution_count": null,
      "metadata": {
        "id": "7cmNSjM5eHO4"
      },
      "outputs": [
        {
          "name": "stdout",
          "output_type": "stream",
          "text": [
            "['orange', 'apple', 'watermelon', 'kiwi', 'avocado', 'avocado', 'avocado', 'avocado']\n",
            "['orange', 'apple', 'watermelon', 'kiwi', 'avocado', 'avocado', 'avocado', 'avocado']\n",
            "['orange', 'apple', 'kiwi', 'avocado', 'avocado', 'avocado', 'avocado']\n"
          ]
        }
      ],
      "source": [
        "## LIST FUNCTIONS AND METHODS \n",
        "# 3. Add a new fruit and remove one existing fruit.\n",
        "# append method\n",
        "fruits.append('avocado')\n",
        "print(fruits)\n",
        "\n",
        "# remove method.\n",
        "fruits.remove('mango')\n",
        "print(fruits)\n",
        "\n",
        "# pop method\n",
        "fruits.pop(2)\n",
        "print(fruits)\n",
        "\n"
      ]
    },
    {
      "cell_type": "code",
      "execution_count": 32,
      "metadata": {
        "id": "CR94Yi1leJvt"
      },
      "outputs": [
        {
          "name": "stdout",
          "output_type": "stream",
          "text": [
            "128\n",
            "1\n"
          ]
        }
      ],
      "source": [
        "# Bonus: Create a list of five numbers and print the largest and smallest.\n",
        "\n",
        "numbers = [65,1,34,12,128]\n",
        "# max function\n",
        "print(max(numbers))\n",
        "print(min(numbers))"
      ]
    },
    {
      "cell_type": "code",
      "execution_count": 38,
      "metadata": {},
      "outputs": [
        {
          "name": "stdout",
          "output_type": "stream",
          "text": [
            "7\n",
            "[65, 1, 34, 12, 128]\n",
            "240\n"
          ]
        }
      ],
      "source": [
        "# print all the elements in a list\n",
        "print(len(fruits))\n",
        "\n",
        "print(numbers)\n",
        "print(sum(numbers))\n"
      ]
    },
    {
      "cell_type": "markdown",
      "metadata": {
        "id": "MzLQbqhMeK57"
      },
      "source": [
        "### 5.2 Tuples\n",
        "\n",
        "A **tuple** is similar to a list but **immutable**, meaning its values cannot be changed after creation.\n",
        "\n",
        "Example:\n",
        "```python\n",
        "coordinates = (10.5, 20.7)\n",
        "```\n",
        "\n",
        "Tuples are useful for fixed collections of items, such as coordinates or RGB color values.\n"
      ]
    },
    {
      "cell_type": "code",
      "execution_count": 41,
      "metadata": {
        "id": "IJYk750yeLfw"
      },
      "outputs": [
        {
          "name": "stdout",
          "output_type": "stream",
          "text": [
            "30\n",
            "12\n",
            "4\n",
            "4\n",
            "[12, 8, 6, 4]\n"
          ]
        }
      ],
      "source": [
        "# Task:\n",
        "# 1. Create a tuple of names with two string values.\n",
        "\n",
        "students = ('ade', 'fola')\n",
        "\n",
        "# 2. Access and print each element by index.\n",
        "# 3. Try modifying one element to observe immutability behavior.\n",
        "\n",
        "evens = (12,4,6,8)\n",
        "print(sum(evens))\n",
        "print(max(evens))\n",
        "print(len(evens))\n",
        "print(min(evens))\n",
        "print(sorted(evens, reverse=True))\n"
      ]
    },
    {
      "cell_type": "code",
      "execution_count": 47,
      "metadata": {
        "id": "vc4nreTueOUY"
      },
      "outputs": [],
      "source": [
        "# write a simple program that performs student registration\n",
        "fake_db = ['wale','shola','steph','kobe','saka']\n",
        "register = []"
      ]
    },
    {
      "cell_type": "code",
      "execution_count": 49,
      "metadata": {
        "id": "wAdf2b66ePLb"
      },
      "outputs": [
        {
          "name": "stdout",
          "output_type": "stream",
          "text": [
            "hi shola welcome to class\n"
          ]
        }
      ],
      "source": [
        "name = input('Welcome, enter your name: ')\n",
        "\n",
        "if name in fake_db:\n",
        "    register.append(name)\n",
        "    print(f'hi {name} welcome to class')\n",
        "else:\n",
        "    print('YO! ASSSSSS HOOOWWWWWWWWW NAAAAAA')"
      ]
    },
    {
      "cell_type": "code",
      "execution_count": 50,
      "metadata": {
        "id": "U8qE_zzHePfe"
      },
      "outputs": [
        {
          "data": {
            "text/plain": [
              "['shola']"
            ]
          },
          "execution_count": 50,
          "metadata": {},
          "output_type": "execute_result"
        }
      ],
      "source": [
        "register"
      ]
    },
    {
      "cell_type": "markdown",
      "metadata": {
        "id": "E5vK9JGgeP3G"
      },
      "source": [
        "### 5.3 Dictionaries\n",
        "\n",
        "A **dictionary** is an unordered collection of key–value pairs.  \n",
        "Keys must be unique and immutable (usually strings or numbers).\n",
        "\n",
        "Example:\n",
        "```python\n",
        "student = {\n",
        "    \"name\": \"Alice\",\n",
        "    \"age\": 25\n",
        "}\n",
        "```\n",
        "\n",
        "Common operations:\n",
        "- Access: `student[\"name\"]`\n",
        "- Add or update: `student[\"grade\"] = \"A\"`\n"
      ]
    },
    {
      "cell_type": "code",
      "execution_count": 65,
      "metadata": {
        "id": "6FjCwCKGeRhr"
      },
      "outputs": [
        {
          "name": "stdout",
          "output_type": "stream",
          "text": [
            "{'ekiti': 'ado-ekiti', 'oyo': 'ibadan', 'osun': 'osogbo'}\n",
            "ibadan\n",
            "oyo\n",
            "{'ekiti': 'ado-ekiti', 'oyo': 'ibadan', 'osun': 'osogbo', 'ogun': 'abeokuta', 'kwara': 'ilorin'}\n",
            "400000000\n"
          ]
        }
      ],
      "source": [
        "# Task:\n",
        "# 1. Create a dictionary states and capital\n",
        "\n",
        "nigeria = {\n",
        "    'ekiti':'ado-ekiti',\n",
        "    'oyo': 'ibadan',\n",
        "    'osun': 'osogbo'\n",
        "    }\n",
        "# 2. Print each key and value.\n",
        "print(nigeria)\n",
        "print(nigeria['oyo'])\n",
        "print(list(nigeria.keys())[1])\n",
        "# 3. Add a new key 'ogun' and update the capital.\n",
        "nigeria['ogun'] = 'abeokuta'\n",
        "nigeria.update({'kwara':'ilorin'})\n",
        "print(nigeria)\n",
        "# 4. Print the updated dictionary.\n",
        "#\n",
        "# Bonus: Create a dictionary for a product with name, price, and quantity,\n",
        "\n",
        "product = {\n",
        "    'name': 'rolex',\n",
        "    'price': 8_000_000,\n",
        "    'quantity': 50\n",
        "}\n",
        "\n",
        "total_value = product['price'] * product['quantity']\n",
        "print(total_value)\n",
        "# then calculate total value (price * quantity).\n"
      ]
    },
    {
      "cell_type": "code",
      "execution_count": 64,
      "metadata": {
        "id": "nTWVgk18eYNh"
      },
      "outputs": [
        {
          "data": {
            "text/plain": [
              "8000000"
            ]
          },
          "execution_count": 64,
          "metadata": {},
          "output_type": "execute_result"
        }
      ],
      "source": [
        "8_000_000"
      ]
    },
    {
      "cell_type": "markdown",
      "metadata": {},
      "source": [
        "### EXERCISE.\n",
        "\n",
        "1.  write a simple program that accepts name of a person and their year of birth and create a dictionary of key name and age as the value."
      ]
    },
    {
      "cell_type": "code",
      "execution_count": null,
      "metadata": {
        "id": "f-S51VTHeYhq"
      },
      "outputs": [],
      "source": [
        "##"
      ]
    },
    {
      "cell_type": "markdown",
      "metadata": {
        "id": "6tlpBzUzeYz7"
      },
      "source": [
        "### Summary\n",
        "In this lesson, you learned:\n",
        "- How to define and use variables and data types.\n",
        "- How to perform arithmetic, comparison, and logical operations.\n",
        "- How to use conditionals for decision-making.\n",
        "- The basic Python data structures: lists, tuples, and dictionaries.\n",
        "\n",
        "Next Lesson → Introduction to NumPy and Pandas."
      ]
    },
    {
      "cell_type": "code",
      "execution_count": null,
      "metadata": {
        "id": "k76sBm9NeZgM"
      },
      "outputs": [],
      "source": []
    }
  ],
  "metadata": {
    "colab": {
      "provenance": []
    },
    "kernelspec": {
      "display_name": "Python 3",
      "name": "python3"
    },
    "language_info": {
      "codemirror_mode": {
        "name": "ipython",
        "version": 3
      },
      "file_extension": ".py",
      "mimetype": "text/x-python",
      "name": "python",
      "nbconvert_exporter": "python",
      "pygments_lexer": "ipython3",
      "version": "3.12.0"
    }
  },
  "nbformat": 4,
  "nbformat_minor": 0
}
