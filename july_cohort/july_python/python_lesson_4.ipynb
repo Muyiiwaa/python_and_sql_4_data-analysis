{
 "cells": [
  {
   "cell_type": "markdown",
   "id": "8ba2beaa",
   "metadata": {},
   "source": [
    "### INTRODUCTION TO PANDAS"
   ]
  },
  {
   "cell_type": "markdown",
   "id": "acdd8f75",
   "metadata": {},
   "source": [
    "#### Introduction to NumPy\n",
    "\n",
    "NumPy is the foundational Python library for numerical computing.  \n",
    "It provides efficient array operations, mathematical functions, and tools for linear algebra and random number generation.\n",
    "Pandas builds on NumPy to provide labeled, table-like data structures for analysis.\n"
   ]
  },
  {
   "cell_type": "code",
   "execution_count": 1,
   "id": "73b2dd20",
   "metadata": {},
   "outputs": [],
   "source": [
    "# arrays in numpy"
   ]
  },
  {
   "cell_type": "markdown",
   "id": "e1e2e954",
   "metadata": {},
   "source": [
    "#### What is Pandas\n",
    "\n",
    "Pandas is a Python library for data manipulation and analysis.  \n",
    "It provides two core data structures:\n",
    "- **Series**: one-dimensional labeled array  \n",
    "- **DataFrame**: two-dimensional labeled table\n",
    "\n",
    "Pandas is typically imported using the alias `pd`.  \n",
    "Most workflows also import NumPy (`np`) since Pandas is built on top of it.\n"
   ]
  },
  {
   "cell_type": "code",
   "execution_count": null,
   "id": "df331bde",
   "metadata": {},
   "outputs": [],
   "source": [
    "# imports"
   ]
  },
  {
   "cell_type": "markdown",
   "id": "f78c5c75",
   "metadata": {},
   "source": [
    "#### Creating a DataFrame.\n",
    "\n",
    "A **DataFrame** is a collection of Series objects sharing the same index.  \n",
    "It represents tabular data with rows and columns."
   ]
  },
  {
   "cell_type": "code",
   "execution_count": 2,
   "id": "3a3a3e17",
   "metadata": {},
   "outputs": [],
   "source": [
    "# create a pandas dataframe\n"
   ]
  },
  {
   "cell_type": "markdown",
   "id": "dd6a3b19",
   "metadata": {},
   "source": [
    "# Reading and Writing Data\n",
    "Pandas supports multiple file formats:\n",
    "- `read_csv()`, `to_csv()`  \n",
    "- `read_excel()`, `to_excel()` \n",
    "- SQL read/write interfaces"
   ]
  },
  {
   "cell_type": "code",
   "execution_count": null,
   "id": "7ee711a5",
   "metadata": {},
   "outputs": [],
   "source": []
  },
  {
   "cell_type": "markdown",
   "id": "a5c50c70",
   "metadata": {},
   "source": [
    "#### Viewing Data.\n",
    "\n",
    "Basic inspection functions include:\n",
    "- `head()` and `tail()` to preview rows  \n",
    "- `info()` to display structure and data types  \n",
    "These help understand dataset shape and completeness.\n"
   ]
  },
  {
   "cell_type": "code",
   "execution_count": null,
   "id": "4aa3e385",
   "metadata": {},
   "outputs": [],
   "source": [
    "# code ..."
   ]
  },
  {
   "cell_type": "markdown",
   "id": "88383cfc",
   "metadata": {},
   "source": [
    "#### Accessing Columns and Rows\n",
    "\n",
    "Data can be accessed using:\n",
    "- Column names (`df['col']`)  \n",
    "- Row indices (`df.loc[]`, `df.iloc[]`)  \n",
    "`loc` is label-based, while `iloc` is integer-based.\n"
   ]
  },
  {
   "cell_type": "code",
   "execution_count": 3,
   "id": "45f825ea",
   "metadata": {},
   "outputs": [],
   "source": [
    "# code"
   ]
  },
  {
   "cell_type": "markdown",
   "id": "2398613d",
   "metadata": {},
   "source": [
    "#### Indexing and Slicing.\n",
    "\n",
    "Subsets of data can be selected using:\n",
    "- Slicing syntax (`df[0:5]`)  \n",
    "- Conditional filters (`df[df['col'] > 10]`)  \n",
    "This enables focused data exploration.\n"
   ]
  },
  {
   "cell_type": "code",
   "execution_count": null,
   "id": "60c723d0",
   "metadata": {},
   "outputs": [],
   "source": [
    "# code"
   ]
  },
  {
   "cell_type": "markdown",
   "id": "45433f72",
   "metadata": {},
   "source": [
    "### Data Types and Conversion\n",
    "Pandas infers column data types automatically.\n",
    "  \n",
    "Use:\n",
    "- `df.dtypes` to view types  \n",
    "- `astype()` to convert between types"
   ]
  },
  {
   "cell_type": "code",
   "execution_count": null,
   "id": "b723f9e2",
   "metadata": {},
   "outputs": [],
   "source": []
  },
  {
   "cell_type": "markdown",
   "id": "ab758e1e",
   "metadata": {},
   "source": [
    "#### handling Missing Data\n",
    "Missing values appear as `NaN`.  \n",
    "Useful functions:\n",
    "- `isna()` to detect  \n",
    "- `fillna()` to replace  \n",
    "- `dropna()` to remove\n"
   ]
  },
  {
   "cell_type": "code",
   "execution_count": null,
   "id": "f8578b45",
   "metadata": {},
   "outputs": [],
   "source": []
  },
  {
   "cell_type": "markdown",
   "id": "e661282f",
   "metadata": {},
   "source": [
    "#### Descriptive Statistics\n",
    "Use `describe()` for a quick summary of numeric data.  \n",
    "Other methods include:\n",
    "- `mean()`, `median()`, `std()` for central tendency  \n",
    "- `corr()` for relationships between columns\n"
   ]
  },
  {
   "cell_type": "code",
   "execution_count": null,
   "id": "37acbe2a",
   "metadata": {},
   "outputs": [],
   "source": []
  },
  {
   "cell_type": "markdown",
   "id": "5111d5dc",
   "metadata": {},
   "source": [
    "#### Filtering Data\n",
    "\n",
    "Use boolean indexing to filter rows.  \n",
    "Example concept: select rows where a column meets a condition, similar to a SQL WHERE clause.\n"
   ]
  },
  {
   "cell_type": "code",
   "execution_count": null,
   "id": "51c961ca",
   "metadata": {},
   "outputs": [],
   "source": []
  },
  {
   "cell_type": "markdown",
   "id": "ae8f89e4",
   "metadata": {},
   "source": [
    "#### Adding and Modifying Columns\n",
    "New columns can be created or updated using:\n",
    "- Arithmetic operations between columns  \n",
    "- Assignments with new data or expressions\n"
   ]
  },
  {
   "cell_type": "code",
   "execution_count": null,
   "id": "640b5bce",
   "metadata": {},
   "outputs": [],
   "source": []
  },
  {
   "cell_type": "markdown",
   "id": "de0cdba2",
   "metadata": {},
   "source": [
    "#### Grouping and Aggregation.\n",
    "\n",
    "\n",
    "`groupby()` allows summarizing data by one or more keys.  \n",
    "Common aggregations include:\n",
    "- `sum()`\n",
    "- `mean()`\n",
    "- `count()`\n"
   ]
  },
  {
   "cell_type": "markdown",
   "id": "72bcca4c",
   "metadata": {},
   "source": []
  }
 ],
 "metadata": {
  "kernelspec": {
   "display_name": "Python 3",
   "language": "python",
   "name": "python3"
  },
  "language_info": {
   "codemirror_mode": {
    "name": "ipython",
    "version": 3
   },
   "file_extension": ".py",
   "mimetype": "text/x-python",
   "name": "python",
   "nbconvert_exporter": "python",
   "pygments_lexer": "ipython3",
   "version": "3.12.0"
  }
 },
 "nbformat": 4,
 "nbformat_minor": 5
}
