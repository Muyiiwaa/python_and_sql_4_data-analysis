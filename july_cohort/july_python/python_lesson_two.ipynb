{
 "cells": [
  {
   "cell_type": "markdown",
   "id": "4985b6a1",
   "metadata": {},
   "source": [
    "### Python Basics Lesson Two: Loops, Functions, and Comprehensions.\n",
    "\n",
    "A beginner-friendly guide to understanding Python loops, functions, and comprehensions with explanations and step-by-step exercises.\n"
   ]
  },
  {
   "cell_type": "code",
   "execution_count": null,
   "id": "c732644a",
   "metadata": {},
   "outputs": [],
   "source": []
  },
  {
   "cell_type": "code",
   "execution_count": null,
   "id": "6eef21e5",
   "metadata": {},
   "outputs": [],
   "source": []
  },
  {
   "cell_type": "markdown",
   "id": "28bb913f",
   "metadata": {},
   "source": [
    "## For Loop\n",
    "\n",
    "- A `for` loop is used to iterate over a sequence (like a list, tuple, string, or range).\n",
    "- It executes a block of code for each element in the sequence.\n"
   ]
  },
  {
   "cell_type": "code",
   "execution_count": null,
   "id": "392177b5",
   "metadata": {},
   "outputs": [],
   "source": [
    "# Create a list of numbers from 1 to 5."
   ]
  },
  {
   "cell_type": "code",
   "execution_count": null,
   "id": "53898a61",
   "metadata": {},
   "outputs": [],
   "source": [
    "# Use a `for` loop to print each number in the list."
   ]
  },
  {
   "cell_type": "code",
   "execution_count": null,
   "id": "da1abaef",
   "metadata": {},
   "outputs": [],
   "source": [
    "# Add a second loop to print the square of each number."
   ]
  },
  {
   "cell_type": "markdown",
   "id": "422023e8",
   "metadata": {},
   "source": [
    "## While Loop\n",
    "\n",
    "- A `while` loop runs as long as a condition is `True`.\n",
    "- It's useful when you don’t know beforehand how many times you need to iterate.\n"
   ]
  },
  {
   "cell_type": "code",
   "execution_count": null,
   "id": "dadb5dee",
   "metadata": {},
   "outputs": [],
   "source": [
    "# Initialize a variable with value 1."
   ]
  },
  {
   "cell_type": "code",
   "execution_count": null,
   "id": "e62de746",
   "metadata": {},
   "outputs": [],
   "source": [
    "# Use a `while` loop to print the variable as long as it is less than 5."
   ]
  },
  {
   "cell_type": "code",
   "execution_count": null,
   "id": "a2657497",
   "metadata": {},
   "outputs": [],
   "source": [
    "# Increment the variable inside the loop to avoid an infinite loop."
   ]
  },
  {
   "cell_type": "markdown",
   "id": "7c61167e",
   "metadata": {},
   "source": [
    "## Functions\n",
    "\n",
    "- Functions allow you to group reusable code into a single block.\n",
    "- They can take inputs (parameters) and return outputs.\n",
    "- Helps in making code modular and readable."
   ]
  },
  {
   "cell_type": "code",
   "execution_count": null,
   "id": "461100e9",
   "metadata": {},
   "outputs": [],
   "source": [
    "# Define a function that takes a number as input and returns its square."
   ]
  },
  {
   "cell_type": "code",
   "execution_count": null,
   "id": "df64ece3",
   "metadata": {},
   "outputs": [],
   "source": [
    "# Call the function with different numbers and print the results."
   ]
  },
  {
   "cell_type": "code",
   "execution_count": null,
   "id": "f88c2f5b",
   "metadata": {},
   "outputs": [],
   "source": [
    "# Create another function that takes two numbers and returns their sum."
   ]
  },
  {
   "cell_type": "markdown",
   "id": "0f633dbb",
   "metadata": {},
   "source": [
    "## List Comprehensions\n",
    "\n",
    "- A concise way to create lists.\n",
    "- Syntax: `[expression for item in iterable if condition]`\n",
    "- Can replace traditional `for` loops for creating lists.\n"
   ]
  },
  {
   "cell_type": "code",
   "execution_count": null,
   "id": "32af0ccf",
   "metadata": {},
   "outputs": [],
   "source": [
    "# Create a list of numbers from 1 to 10 using `range`.\n"
   ]
  },
  {
   "cell_type": "code",
   "execution_count": null,
   "id": "5ba6f9e8",
   "metadata": {},
   "outputs": [],
   "source": [
    "# Use a list comprehension to create a list of squares of these numbers.\n"
   ]
  },
  {
   "cell_type": "code",
   "execution_count": null,
   "id": "7d57d121",
   "metadata": {},
   "outputs": [],
   "source": [
    "# Add a condition to include only even numbers in the squared list."
   ]
  },
  {
   "cell_type": "markdown",
   "id": "78a826ae",
   "metadata": {},
   "source": [
    "## Dictionary Comprehensions\n",
    "\n",
    "- Similar to list comprehensions, but used for dictionaries.\n",
    "- Syntax: `{key_expression: value_expression for item in iterable if condition}`\n",
    "\n"
   ]
  },
  {
   "cell_type": "code",
   "execution_count": null,
   "id": "c2658d10",
   "metadata": {},
   "outputs": [],
   "source": [
    "# Create a list of numbers from 1 to 5.\n",
    "\n"
   ]
  },
  {
   "cell_type": "code",
   "execution_count": null,
   "id": "33425b9e",
   "metadata": {},
   "outputs": [],
   "source": [
    "# Use a dictionary comprehension to create a dictionary where the key is the number and the value is its square."
   ]
  },
  {
   "cell_type": "code",
   "execution_count": null,
   "id": "9729f963",
   "metadata": {},
   "outputs": [],
   "source": [
    "# Add a condition to include only keys that are odd numbers."
   ]
  },
  {
   "cell_type": "markdown",
   "id": "54327cfe",
   "metadata": {},
   "source": [
    "## Summary\n",
    "\n",
    "- **For Loop**: Iterates over a sequence.\n",
    "- **While Loop**: Iterates as long as a condition is True.\n",
    "- **Functions**: Reusable blocks of code with inputs and outputs.\n",
    "- **List Comprehensions**: Concise way to create lists.\n",
    "- **Dictionary Comprehensions**: Concise way to create dictionaries.\n"
   ]
  },
  {
   "cell_type": "markdown",
   "id": "41f4ce4e",
   "metadata": {},
   "source": []
  }
 ],
 "metadata": {
  "language_info": {
   "name": "python"
  }
 },
 "nbformat": 4,
 "nbformat_minor": 5
}
