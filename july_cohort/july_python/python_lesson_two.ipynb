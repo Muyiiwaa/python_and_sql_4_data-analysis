{
 "cells": [
  {
   "cell_type": "markdown",
   "id": "4985b6a1",
   "metadata": {},
   "source": [
    "### Python Basics Lesson Two: Loops, Functions, and Comprehensions.\n",
    "\n",
    "A beginner-friendly guide to understanding Python loops, functions, and comprehensions with explanations and step-by-step exercises.\n"
   ]
  },
  {
   "cell_type": "markdown",
   "id": "28bb913f",
   "metadata": {},
   "source": [
    "## For Loop\n",
    "\n",
    "- A `for` loop is used to iterate over a sequence (like a list, tuple, string, or range).\n",
    "- It executes a block of code for each element in the sequence.\n"
   ]
  },
  {
   "cell_type": "code",
   "execution_count": 30,
   "id": "392177b5",
   "metadata": {},
   "outputs": [],
   "source": [
    "# Create a list of numbers from 1 to 5.\n",
    "\n",
    "numbers = [1,2,3,4,5,6]"
   ]
  },
  {
   "cell_type": "code",
   "execution_count": 31,
   "id": "53898a61",
   "metadata": {},
   "outputs": [
    {
     "name": "stdout",
     "output_type": "stream",
     "text": [
      "1 \n",
      "2 \n",
      "3 \n",
      "4 \n",
      "5 \n",
      "6 \n"
     ]
    }
   ],
   "source": [
    "# Use a `for` loop to print each number in the list.\n",
    "\n",
    "for num in numbers:\n",
    "    print(f\"{num} \")"
   ]
  },
  {
   "cell_type": "code",
   "execution_count": 7,
   "id": "da1abaef",
   "metadata": {},
   "outputs": [
    {
     "name": "stdout",
     "output_type": "stream",
     "text": [
      "The square of 1 is 1\n",
      "The square of 2 is 4\n",
      "The square of 3 is 9\n",
      "The square of 4 is 16\n",
      "The square of 5 is 25\n",
      "The square of 6 is 36\n"
     ]
    }
   ],
   "source": [
    "# Add a second loop to print the square of each number.\n",
    "\n",
    "for number in numbers:\n",
    "    print(f'The square of {number} is {number ** 2}')\n",
    "    "
   ]
  },
  {
   "cell_type": "code",
   "execution_count": 14,
   "id": "7e2ff42a",
   "metadata": {},
   "outputs": [
    {
     "name": "stdout",
     "output_type": "stream",
     "text": [
      "2\n",
      "4\n",
      "6\n",
      "8\n"
     ]
    }
   ],
   "source": [
    "# write a program that returns all the even numbers within a range.\n",
    "\n",
    "lower_bound = int(input(\"Enter the lower bound: \"))\n",
    "upper_bound = int(input(\"Enter the upper bound: \"))\n",
    "\n",
    "numbers = list(range(lower_bound,upper_bound+1))\n",
    "\n",
    "for number in numbers:\n",
    "    if number % 2 == 0:\n",
    "        print(number)"
   ]
  },
  {
   "cell_type": "code",
   "execution_count": null,
   "id": "efed3fe8",
   "metadata": {},
   "outputs": [
    {
     "name": "stdout",
     "output_type": "stream",
     "text": [
      "12317 is not prime because 109 can go\n"
     ]
    }
   ],
   "source": [
    "# write a program that checks if a number is prime or not.\n",
    "factor = []\n",
    "number = int(input('Enter the number: '))\n",
    "\n",
    "for num in range(2, number):\n",
    "    if number % num == 0:\n",
    "        factor.append(num)\n",
    "        print(f\"{number} is not prime because {factor[0]} can go\")\n",
    "        break\n",
    "else:\n",
    "    print(f\"{number} is prime\")"
   ]
  },
  {
   "cell_type": "markdown",
   "id": "422023e8",
   "metadata": {},
   "source": [
    "## While Loop\n",
    "\n",
    "- A `while` loop runs as long as a condition is `True`.\n",
    "- It's useful when you don’t know beforehand how many times you need to iterate.\n"
   ]
  },
  {
   "cell_type": "code",
   "execution_count": 26,
   "id": "dadb5dee",
   "metadata": {},
   "outputs": [],
   "source": [
    "# Initialize a variable with value 5.\n",
    "\n",
    "maximum_number = 5"
   ]
  },
  {
   "cell_type": "code",
   "execution_count": 28,
   "id": "e62de746",
   "metadata": {},
   "outputs": [
    {
     "name": "stdout",
     "output_type": "stream",
     "text": [
      "0\n",
      "1\n",
      "2\n",
      "3\n",
      "4\n"
     ]
    }
   ],
   "source": [
    "# Use a `while` loop to print the variable as long as it is less than 5.\n",
    "\n",
    "number = 0\n",
    "while number < maximum_number:\n",
    "    print(number)\n",
    "    number += 1"
   ]
  },
  {
   "cell_type": "code",
   "execution_count": 32,
   "id": "131559b4",
   "metadata": {},
   "outputs": [],
   "source": [
    "# write a register program that takes student's name and registers them for the day\n",
    "\n",
    "fake_db = {\n",
    "    'fola': '1234',\n",
    "    'kemi': 'abcd'\n",
    "}\n",
    "\n",
    "register = []"
   ]
  },
  {
   "cell_type": "code",
   "execution_count": 33,
   "id": "5898eefe",
   "metadata": {},
   "outputs": [
    {
     "name": "stdout",
     "output_type": "stream",
     "text": [
      "Welcome to class fola\n",
      "Incorrect password! \n",
      "user not found!\n",
      "Welcome to class kemi\n",
      "availble students: ['fola', 'kemi']\n"
     ]
    }
   ],
   "source": [
    "break_condition = 'stop'\n",
    "while True:\n",
    "    username = input('Enter your name: ')\n",
    "    if username != break_condition:\n",
    "        if username in fake_db.keys(): # confirming if they are a student.\n",
    "            password = input(f'Hi {username} enter your password')\n",
    "            if fake_db[username] == password:\n",
    "                register.append(username)\n",
    "                print(f\"Welcome to class {username}\")\n",
    "            else:\n",
    "                print('Incorrect password! ') \n",
    "        else:\n",
    "            print(\"user not found!\")\n",
    "    else:\n",
    "        break\n",
    "\n",
    "print(f\"availble students: {register}\")"
   ]
  },
  {
   "cell_type": "markdown",
   "id": "7c61167e",
   "metadata": {},
   "source": [
    "## Functions\n",
    "\n",
    "- Functions allow you to group reusable code into a single block.\n",
    "- They can take inputs (parameters) and return outputs.\n",
    "- Helps in making code modular and readable."
   ]
  },
  {
   "cell_type": "code",
   "execution_count": 34,
   "id": "461100e9",
   "metadata": {},
   "outputs": [],
   "source": [
    "# Define a function that takes a number as input and returns its square.\n",
    "\n",
    "def get_square(number):\n",
    "    square = number ** 2\n",
    "    return square"
   ]
  },
  {
   "cell_type": "code",
   "execution_count": 36,
   "id": "df64ece3",
   "metadata": {},
   "outputs": [
    {
     "name": "stdout",
     "output_type": "stream",
     "text": [
      "9\n",
      "25\n"
     ]
    }
   ],
   "source": [
    "# Call the function with different numbers and print the results.\n",
    "print(get_square(number=3))\n",
    "print(get_square(5))"
   ]
  },
  {
   "cell_type": "code",
   "execution_count": 37,
   "id": "f88c2f5b",
   "metadata": {},
   "outputs": [
    {
     "data": {
      "text/plain": [
       "15"
      ]
     },
     "execution_count": 37,
     "metadata": {},
     "output_type": "execute_result"
    }
   ],
   "source": [
    "# Create another function that takes two numbers and returns their sum.\n",
    "\n",
    "def add_two_numbers(first_number, second_number):\n",
    "    addition = first_number + second_number\n",
    "    return addition\n",
    "\n",
    "\n",
    "add_two_numbers(first_number=4, second_number=11)"
   ]
  },
  {
   "cell_type": "code",
   "execution_count": 44,
   "id": "1a688a0c",
   "metadata": {},
   "outputs": [
    {
     "name": "stdout",
     "output_type": "stream",
     "text": [
      "even\n"
     ]
    }
   ],
   "source": [
    "# write a function that checks if a number is odd or even\n",
    "\n",
    "def check_number(number):\n",
    "    if number % 2 == 0:\n",
    "        return 'even'\n",
    "    else:\n",
    "        return 'odd'\n",
    "\n",
    "check_number(number=12)\n",
    "print(check_number(6))"
   ]
  },
  {
   "cell_type": "code",
   "execution_count": 46,
   "id": "c442b678",
   "metadata": {},
   "outputs": [
    {
     "data": {
      "text/plain": [
       "[4, 6, 8, 10, 12, 14, 16]"
      ]
     },
     "execution_count": 46,
     "metadata": {},
     "output_type": "execute_result"
    }
   ],
   "source": [
    "# write a function thet returns the list of even numbers within a range.\n",
    "\n",
    "def get_even(lower_bound, upper_bound):\n",
    "    even_list = []\n",
    "    for number in range(lower_bound, upper_bound+1):\n",
    "        if check_number(number) == 'even':\n",
    "            even_list.append(number)\n",
    "    return even_list\n",
    "            \n",
    "\n",
    "\n",
    "get_even(3, 17)"
   ]
  },
  {
   "cell_type": "code",
   "execution_count": 52,
   "id": "b5809051",
   "metadata": {},
   "outputs": [
    {
     "data": {
      "text/plain": [
       "4.25"
      ]
     },
     "execution_count": 52,
     "metadata": {},
     "output_type": "execute_result"
    }
   ],
   "source": [
    "# unlimited arguments\n",
    "# write a function that returns averages\n",
    "\n",
    "def get_average(*numbers):\n",
    "    average = sum(numbers)/len(numbers)\n",
    "    return average\n",
    "\n",
    "get_average(1,4,5,3,4,6,5,6,)"
   ]
  },
  {
   "cell_type": "markdown",
   "id": "0f633dbb",
   "metadata": {},
   "source": [
    "## List Comprehensions\n",
    "\n",
    "- A concise way to create lists.\n",
    "- Syntax: `[expression for item in iterable if condition]`\n",
    "- Can replace traditional `for` loops for creating lists.\n"
   ]
  },
  {
   "cell_type": "code",
   "execution_count": 53,
   "id": "32af0ccf",
   "metadata": {},
   "outputs": [
    {
     "data": {
      "text/plain": [
       "[1, 2, 3, 4, 5, 6, 7, 8, 9]"
      ]
     },
     "execution_count": 53,
     "metadata": {},
     "output_type": "execute_result"
    }
   ],
   "source": [
    "# Create a list of numbers from 1 to 10 using `range`.\n",
    "\n",
    "numbers = list(range(1,10))\n",
    "numbers\n"
   ]
  },
  {
   "cell_type": "code",
   "execution_count": 55,
   "id": "f752a293",
   "metadata": {},
   "outputs": [
    {
     "data": {
      "text/plain": [
       "[1, 4, 9, 16, 25, 36, 49, 64, 81]"
      ]
     },
     "execution_count": 55,
     "metadata": {},
     "output_type": "execute_result"
    }
   ],
   "source": [
    "square_list = []\n",
    "for number in numbers:\n",
    "    square_list.append(number ** 2)\n",
    "\n",
    "square_list"
   ]
  },
  {
   "cell_type": "code",
   "execution_count": 58,
   "id": "5ba6f9e8",
   "metadata": {},
   "outputs": [
    {
     "data": {
      "text/plain": [
       "[1, 4, 9, 16, 25, 36, 49, 64, 81]"
      ]
     },
     "execution_count": 58,
     "metadata": {},
     "output_type": "execute_result"
    }
   ],
   "source": [
    "# Use a list comprehension to create a list of squares of these numbers.\n",
    "\n",
    "squared_list = [number ** 2 for number in numbers]\n",
    "squared_list"
   ]
  },
  {
   "cell_type": "code",
   "execution_count": null,
   "id": "f8ffc62a",
   "metadata": {},
   "outputs": [
    {
     "data": {
      "text/plain": [
       "[2, 4, 6, 8]"
      ]
     },
     "execution_count": 57,
     "metadata": {},
     "output_type": "execute_result"
    }
   ],
   "source": []
  },
  {
   "cell_type": "code",
   "execution_count": 59,
   "id": "7d57d121",
   "metadata": {},
   "outputs": [
    {
     "data": {
      "text/plain": [
       "[4, 16, 36, 64]"
      ]
     },
     "execution_count": 59,
     "metadata": {},
     "output_type": "execute_result"
    }
   ],
   "source": [
    "# Add a condition to include only even numbers in the squared list.\n",
    "\n",
    "[number for number in square_list if number % 2 == 0]"
   ]
  },
  {
   "cell_type": "markdown",
   "id": "78a826ae",
   "metadata": {},
   "source": [
    "## Dictionary Comprehensions\n",
    "\n",
    "- Similar to list comprehensions, but used for dictionaries.\n",
    "- Syntax: `{key_expression: value_expression for item in iterable if condition}`\n",
    "\n"
   ]
  },
  {
   "cell_type": "code",
   "execution_count": 60,
   "id": "c2658d10",
   "metadata": {},
   "outputs": [
    {
     "data": {
      "text/plain": [
       "[1, 2, 3, 4, 5]"
      ]
     },
     "execution_count": 60,
     "metadata": {},
     "output_type": "execute_result"
    }
   ],
   "source": [
    "# Create a list of numbers from 1 to 5.\n",
    "\n",
    "numbers = list(range(1,6))\n",
    "numbers"
   ]
  },
  {
   "cell_type": "code",
   "execution_count": 61,
   "id": "33425b9e",
   "metadata": {},
   "outputs": [
    {
     "data": {
      "text/plain": [
       "{1: 1, 2: 4, 3: 9, 4: 16, 5: 25}"
      ]
     },
     "execution_count": 61,
     "metadata": {},
     "output_type": "execute_result"
    }
   ],
   "source": [
    "# Use a dictionary comprehension to create a dictionary where the key is the number and the value is its square.\n",
    "\n",
    "{number:number**2 for number in numbers}"
   ]
  },
  {
   "cell_type": "code",
   "execution_count": 62,
   "id": "9729f963",
   "metadata": {},
   "outputs": [
    {
     "data": {
      "text/plain": [
       "{1: 1, 3: 9, 5: 25}"
      ]
     },
     "execution_count": 62,
     "metadata": {},
     "output_type": "execute_result"
    }
   ],
   "source": [
    "# Add a condition to include only keys that are odd numbers.\n",
    "\n",
    "{number:number**2 for number in numbers if number % 2 == 1}"
   ]
  },
  {
   "cell_type": "markdown",
   "id": "54327cfe",
   "metadata": {},
   "source": [
    "## Summary\n",
    "\n",
    "- **For Loop**: Iterates over a sequence.\n",
    "- **While Loop**: Iterates as long as a condition is True.\n",
    "- **Functions**: Reusable blocks of code with inputs and outputs.\n",
    "- **List Comprehensions**: Concise way to create lists.\n",
    "- **Dictionary Comprehensions**: Concise way to create dictionaries.\n"
   ]
  },
  {
   "cell_type": "markdown",
   "id": "41f4ce4e",
   "metadata": {},
   "source": []
  }
 ],
 "metadata": {
  "kernelspec": {
   "display_name": "Python 3",
   "language": "python",
   "name": "python3"
  },
  "language_info": {
   "codemirror_mode": {
    "name": "ipython",
    "version": 3
   },
   "file_extension": ".py",
   "mimetype": "text/x-python",
   "name": "python",
   "nbconvert_exporter": "python",
   "pygments_lexer": "ipython3",
   "version": "3.12.0"
  }
 },
 "nbformat": 4,
 "nbformat_minor": 5
}
